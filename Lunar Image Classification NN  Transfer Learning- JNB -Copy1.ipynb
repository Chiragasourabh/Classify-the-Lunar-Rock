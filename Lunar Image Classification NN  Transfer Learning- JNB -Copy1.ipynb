{
 "cells": [
  {
   "cell_type": "code",
   "execution_count": 1,
   "metadata": {},
   "outputs": [],
   "source": [
    "import numpy as np\n",
    "import matplotlib.pyplot as plt\n",
    "import os\n",
    "import cv2\n",
    "from tqdm import tqdm\n",
    "import pandas as pd"
   ]
  },
  {
   "cell_type": "code",
   "execution_count": 2,
   "metadata": {},
   "outputs": [],
   "source": [
    "trainCSV = pd.read_csv(\"DataSet/train.csv\").set_index(\"Image_File\")"
   ]
  },
  {
   "cell_type": "code",
   "execution_count": 3,
   "metadata": {},
   "outputs": [
    {
     "data": {
      "text/html": [
       "<div>\n",
       "<style scoped>\n",
       "    .dataframe tbody tr th:only-of-type {\n",
       "        vertical-align: middle;\n",
       "    }\n",
       "\n",
       "    .dataframe tbody tr th {\n",
       "        vertical-align: top;\n",
       "    }\n",
       "\n",
       "    .dataframe thead th {\n",
       "        text-align: right;\n",
       "    }\n",
       "</style>\n",
       "<table border=\"1\" class=\"dataframe\">\n",
       "  <thead>\n",
       "    <tr style=\"text-align: right;\">\n",
       "      <th></th>\n",
       "      <th>Class</th>\n",
       "    </tr>\n",
       "    <tr>\n",
       "      <th>Image_File</th>\n",
       "      <th></th>\n",
       "    </tr>\n",
       "  </thead>\n",
       "  <tbody>\n",
       "    <tr>\n",
       "      <th>clean2416.png</th>\n",
       "      <td>Large</td>\n",
       "    </tr>\n",
       "    <tr>\n",
       "      <th>ground4022.png</th>\n",
       "      <td>Small</td>\n",
       "    </tr>\n",
       "    <tr>\n",
       "      <th>ground0340.png</th>\n",
       "      <td>Small</td>\n",
       "    </tr>\n",
       "    <tr>\n",
       "      <th>ground2110.png</th>\n",
       "      <td>Small</td>\n",
       "    </tr>\n",
       "    <tr>\n",
       "      <th>clean1581.png</th>\n",
       "      <td>Large</td>\n",
       "    </tr>\n",
       "  </tbody>\n",
       "</table>\n",
       "</div>"
      ],
      "text/plain": [
       "                Class\n",
       "Image_File           \n",
       "clean2416.png   Large\n",
       "ground4022.png  Small\n",
       "ground0340.png  Small\n",
       "ground2110.png  Small\n",
       "clean1581.png   Large"
      ]
     },
     "execution_count": 3,
     "metadata": {},
     "output_type": "execute_result"
    }
   ],
   "source": [
    "trainCSV.head()"
   ]
  },
  {
   "cell_type": "code",
   "execution_count": 4,
   "metadata": {},
   "outputs": [],
   "source": [
    "from sklearn.preprocessing import LabelEncoder"
   ]
  },
  {
   "cell_type": "code",
   "execution_count": 5,
   "metadata": {},
   "outputs": [],
   "source": [
    "LabelEncoderInstance = LabelEncoder()"
   ]
  },
  {
   "cell_type": "code",
   "execution_count": 6,
   "metadata": {},
   "outputs": [
    {
     "data": {
      "text/plain": [
       "LabelEncoder()"
      ]
     },
     "execution_count": 6,
     "metadata": {},
     "output_type": "execute_result"
    }
   ],
   "source": [
    "LabelEncoderInstance.fit(trainCSV.Class.unique())"
   ]
  },
  {
   "cell_type": "code",
   "execution_count": 7,
   "metadata": {},
   "outputs": [],
   "source": [
    "TRAIN_DATA_DIR = \"DataSet/TrainImages\"\n",
    "IMG_SIZE = 150"
   ]
  },
  {
   "cell_type": "code",
   "execution_count": 8,
   "metadata": {},
   "outputs": [],
   "source": [
    "path = os.path.join(TRAIN_DATA_DIR)"
   ]
  },
  {
   "cell_type": "code",
   "execution_count": 9,
   "metadata": {
    "scrolled": true
   },
   "outputs": [],
   "source": [
    "# Training_data = []\n",
    "# def create_traininf_data():\n",
    "#     for image in tqdm(os.listdir(path)):\n",
    "#         img_array = cv2.resize(cv2.imread(os.path.join(path,image),cv2.IMREAD_GRAYSCALE) ,(IMG_SIZE,IMG_SIZE))\n",
    "#         Training_data.append([img_array,LabelEncoderInstance.transform([trainCSV[\"Class\"][image]])[0]])\n",
    "# #         plt.imshow(img_array,cmap = \"gray\")\n",
    "# #         plt.show()\n",
    "# create_traininf_data()"
   ]
  },
  {
   "cell_type": "code",
   "execution_count": 10,
   "metadata": {},
   "outputs": [],
   "source": [
    "import pickle"
   ]
  },
  {
   "cell_type": "code",
   "execution_count": 11,
   "metadata": {},
   "outputs": [],
   "source": [
    "# with open('Training_data.pkl','wb') as file:\n",
    "#     pickle.dump(Training_data,file)"
   ]
  },
  {
   "cell_type": "code",
   "execution_count": 12,
   "metadata": {},
   "outputs": [],
   "source": [
    "# break"
   ]
  },
  {
   "cell_type": "code",
   "execution_count": null,
   "metadata": {},
   "outputs": [],
   "source": []
  },
  {
   "cell_type": "code",
   "execution_count": 13,
   "metadata": {},
   "outputs": [],
   "source": [
    "with open('Training_data.pkl','rb') as file:\n",
    "    Training_data = pickle.load(file)"
   ]
  },
  {
   "cell_type": "code",
   "execution_count": 14,
   "metadata": {},
   "outputs": [],
   "source": [
    "X = []\n",
    "y = []\n",
    "for feature , target in Training_data:\n",
    "    X.append(feature)\n",
    "    y.append(target)"
   ]
  },
  {
   "cell_type": "code",
   "execution_count": 15,
   "metadata": {},
   "outputs": [],
   "source": [
    "X = np.array(X).reshape(-1,IMG_SIZE,IMG_SIZE,1)"
   ]
  },
  {
   "cell_type": "code",
   "execution_count": 16,
   "metadata": {},
   "outputs": [],
   "source": [
    "from sklearn.model_selection import train_test_split"
   ]
  },
  {
   "cell_type": "code",
   "execution_count": 17,
   "metadata": {},
   "outputs": [],
   "source": [
    "X_train, X_test, y_train, y_test = train_test_split(X, y, test_size=0, random_state=42)"
   ]
  },
  {
   "cell_type": "code",
   "execution_count": 18,
   "metadata": {},
   "outputs": [
    {
     "ename": "SyntaxError",
     "evalue": "'break' outside loop (<ipython-input-18-6aaf1f276005>, line 1)",
     "output_type": "error",
     "traceback": [
      "\u001b[1;36m  File \u001b[1;32m\"<ipython-input-18-6aaf1f276005>\"\u001b[1;36m, line \u001b[1;32m1\u001b[0m\n\u001b[1;33m    break\u001b[0m\n\u001b[1;37m         ^\u001b[0m\n\u001b[1;31mSyntaxError\u001b[0m\u001b[1;31m:\u001b[0m 'break' outside loop\n"
     ]
    }
   ],
   "source": [
    "break"
   ]
  },
  {
   "cell_type": "code",
   "execution_count": null,
   "metadata": {},
   "outputs": [],
   "source": []
  },
  {
   "cell_type": "code",
   "execution_count": 19,
   "metadata": {},
   "outputs": [],
   "source": [
    "import tensorflow as tf\n",
    "from tensorflow.keras.models import Sequential\n",
    "from tensorflow.keras.layers import Dense, Dropout, Activation, Flatten\n",
    "from tensorflow.keras.layers import Conv2D, MaxPooling2D"
   ]
  },
  {
   "cell_type": "code",
   "execution_count": 20,
   "metadata": {},
   "outputs": [
    {
     "name": "stderr",
     "output_type": "stream",
     "text": [
      "WARNING: Logging before flag parsing goes to stderr.\n",
      "W1002 21:34:44.987257 19484 deprecation.py:506] From c:\\users\\chira\\appdata\\local\\programs\\python\\python37\\lib\\site-packages\\tensorflow\\python\\ops\\init_ops.py:1251: calling VarianceScaling.__init__ (from tensorflow.python.ops.init_ops) with dtype is deprecated and will be removed in a future version.\n",
      "Instructions for updating:\n",
      "Call initializer instance with the dtype argument instead of passing it to the constructor\n",
      "W1002 21:34:45.127099 19484 deprecation.py:323] From c:\\users\\chira\\appdata\\local\\programs\\python\\python37\\lib\\site-packages\\tensorflow\\python\\ops\\nn_impl.py:180: add_dispatch_support.<locals>.wrapper (from tensorflow.python.ops.array_ops) is deprecated and will be removed in a future version.\n",
      "Instructions for updating:\n",
      "Use tf.where in 2.0, which has the same broadcast rule as np.where\n"
     ]
    }
   ],
   "source": [
    "model = Sequential()\n",
    "\n",
    "model.add(Conv2D(256, (3, 3), input_shape=X.shape[1:]))\n",
    "model.add(Activation('relu'))\n",
    "model.add(MaxPooling2D(pool_size=(2, 2)))\n",
    "model.add(Conv2D(256, (3, 3)))\n",
    "model.add(Activation('relu'))\n",
    "model.add(MaxPooling2D(pool_size=(2, 2)))\n",
    "model.add(Flatten())  # this converts our 3D feature maps to 1D feature vectors\n",
    "model.add(Dense(64))\n",
    "model.add(Dense(1))\n",
    "model.add(Activation('sigmoid'))\n",
    "\n",
    "model.compile(loss='binary_crossentropy',\n",
    "              optimizer='adam',\n",
    "              metrics=['accuracy'])"
   ]
  },
  {
   "cell_type": "code",
   "execution_count": 21,
   "metadata": {},
   "outputs": [],
   "source": [
    "# model=tf.keras.models.load_model('TrainedModel.h5')"
   ]
  },
  {
   "cell_type": "code",
   "execution_count": null,
   "metadata": {
    "scrolled": true
   },
   "outputs": [
    {
     "name": "stdout",
     "output_type": "stream",
     "text": [
      "Epoch 1/3\n"
     ]
    },
    {
     "name": "stdout",
     "output_type": "stream",
     "text": [
      " 4060/11998 [=========>....................] - ETA: 1:12:18 - loss: 4.4572 - acc: 0.35 - ETA: 39:11 - loss: 754.1892 - acc: 0.40 - ETA: 28:07 - loss: 628.1079 - acc: 0.40 - ETA: 22:35 - loss: 478.9888 - acc: 0.41 - ETA: 21:07 - loss: 389.1839 - acc: 0.42 - ETA: 18:35 - loss: 324.8587 - acc: 0.43 - ETA: 16:46 - loss: 278.7120 - acc: 0.45 - ETA: 15:25 - loss: 244.0522 - acc: 0.47 - ETA: 14:21 - loss: 217.0619 - acc: 0.48 - ETA: 13:30 - loss: 195.4729 - acc: 0.51 - ETA: 12:49 - loss: 177.9496 - acc: 0.51 - ETA: 12:13 - loss: 163.1989 - acc: 0.52 - ETA: 11:44 - loss: 150.7210 - acc: 0.53 - ETA: 11:18 - loss: 140.0207 - acc: 0.53 - ETA: 10:56 - loss: 130.7030 - acc: 0.55 - ETA: 10:36 - loss: 122.5626 - acc: 0.56 - ETA: 10:19 - loss: 115.3777 - acc: 0.57 - ETA: 10:04 - loss: 109.0113 - acc: 0.57 - ETA: 9:50 - loss: 103.2950 - acc: 0.5816 - ETA: 9:37 - loss: 98.1496 - acc: 0.595 - ETA: 9:26 - loss: 93.5044 - acc: 0.60 - ETA: 9:15 - loss: 89.2703 - acc: 0.61 - ETA: 9:06 - loss: 85.3966 - acc: 0.62 - ETA: 8:57 - loss: 81.8588 - acc: 0.63 - ETA: 8:49 - loss: 78.5943 - acc: 0.64 - ETA: 8:41 - loss: 75.5725 - acc: 0.65 - ETA: 8:34 - loss: 72.7821 - acc: 0.66 - ETA: 8:27 - loss: 70.1926 - acc: 0.67 - ETA: 8:21 - loss: 67.7733 - acc: 0.68 - ETA: 8:15 - loss: 65.5236 - acc: 0.69 - ETA: 8:10 - loss: 63.4125 - acc: 0.70 - ETA: 8:05 - loss: 61.4350 - acc: 0.71 - ETA: 8:00 - loss: 59.5909 - acc: 0.71 - ETA: 7:55 - loss: 57.8423 - acc: 0.71 - ETA: 7:51 - loss: 56.1900 - acc: 0.72 - ETA: 7:46 - loss: 54.6597 - acc: 0.73 - ETA: 7:42 - loss: 53.1851 - acc: 0.73 - ETA: 7:38 - loss: 51.7872 - acc: 0.74 - ETA: 7:35 - loss: 50.4616 - acc: 0.75 - ETA: 7:31 - loss: 49.2035 - acc: 0.75 - ETA: 7:28 - loss: 48.0073 - acc: 0.76 - ETA: 7:25 - loss: 46.8667 - acc: 0.76 - ETA: 7:22 - loss: 45.7799 - acc: 0.77 - ETA: 7:19 - loss: 44.7406 - acc: 0.77 - ETA: 7:16 - loss: 43.7486 - acc: 0.78 - ETA: 7:13 - loss: 42.8008 - acc: 0.78 - ETA: 7:10 - loss: 41.8920 - acc: 0.79 - ETA: 7:08 - loss: 41.0234 - acc: 0.79 - ETA: 7:05 - loss: 40.1885 - acc: 0.80 - ETA: 7:03 - loss: 39.3875 - acc: 0.80 - ETA: 7:00 - loss: 38.6165 - acc: 0.80 - ETA: 6:58 - loss: 37.8782 - acc: 0.80 - ETA: 6:56 - loss: 37.1647 - acc: 0.81 - ETA: 6:54 - loss: 36.4780 - acc: 0.81 - ETA: 6:52 - loss: 35.8163 - acc: 0.81 - ETA: 6:50 - loss: 35.1780 - acc: 0.82 - ETA: 6:48 - loss: 34.5633 - acc: 0.82 - ETA: 6:46 - loss: 33.9688 - acc: 0.82 - ETA: 6:44 - loss: 33.3941 - acc: 0.82 - ETA: 6:43 - loss: 32.8414 - acc: 0.83 - ETA: 6:41 - loss: 32.3047 - acc: 0.83 - ETA: 6:39 - loss: 31.7870 - acc: 0.83 - ETA: 6:38 - loss: 31.2840 - acc: 0.83 - ETA: 6:36 - loss: 30.7972 - acc: 0.84 - ETA: 6:34 - loss: 30.3255 - acc: 0.84 - ETA: 6:33 - loss: 29.8671 - acc: 0.84 - ETA: 6:31 - loss: 29.4221 - acc: 0.84 - ETA: 6:30 - loss: 28.9904 - acc: 0.84 - ETA: 6:28 - loss: 28.5705 - acc: 0.85 - ETA: 6:27 - loss: 28.1630 - acc: 0.85 - ETA: 6:26 - loss: 27.7678 - acc: 0.85 - ETA: 6:24 - loss: 27.3827 - acc: 0.85 - ETA: 6:23 - loss: 27.0077 - acc: 0.85 - ETA: 6:21 - loss: 26.6450 - acc: 0.86 - ETA: 6:20 - loss: 26.2907 - acc: 0.86 - ETA: 6:19 - loss: 25.9463 - acc: 0.86 - ETA: 6:18 - loss: 25.6104 - acc: 0.86 - ETA: 6:16 - loss: 25.2829 - acc: 0.86 - ETA: 6:15 - loss: 24.9634 - acc: 0.86 - ETA: 6:14 - loss: 24.6518 - acc: 0.87 - ETA: 6:13 - loss: 24.3489 - acc: 0.87 - ETA: 6:12 - loss: 24.0555 - acc: 0.87 - ETA: 6:10 - loss: 23.7658 - acc: 0.87 - ETA: 6:09 - loss: 23.4833 - acc: 0.87 - ETA: 6:08 - loss: 23.2074 - acc: 0.87 - ETA: 6:07 - loss: 22.9386 - acc: 0.87 - ETA: 6:06 - loss: 22.6778 - acc: 0.87 - ETA: 6:05 - loss: 22.4204 - acc: 0.88 - ETA: 6:04 - loss: 22.1696 - acc: 0.88 - ETA: 6:03 - loss: 21.9235 - acc: 0.88 - ETA: 6:02 - loss: 21.6829 - acc: 0.88 - ETA: 6:01 - loss: 21.4473 - acc: 0.88 - ETA: 6:00 - loss: 21.2175 - acc: 0.88 - ETA: 5:59 - loss: 20.9919 - acc: 0.88 - ETA: 5:58 - loss: 20.7717 - acc: 0.88 - ETA: 5:57 - loss: 20.5562 - acc: 0.89 - ETA: 5:56 - loss: 20.3447 - acc: 0.89 - ETA: 5:55 - loss: 20.1372 - acc: 0.89 - ETA: 5:54 - loss: 19.9347 - acc: 0.89 - ETA: 5:53 - loss: 19.7357 - acc: 0.89 - ETA: 5:52 - loss: 19.5444 - acc: 0.89 - ETA: 5:51 - loss: 19.3540 - acc: 0.89 - ETA: 5:50 - loss: 19.1665 - acc: 0.89 - ETA: 5:49 - loss: 18.9826 - acc: 0.89 - ETA: 5:48 - loss: 18.8027 - acc: 0.89 - ETA: 5:47 - loss: 18.6294 - acc: 0.89 - ETA: 5:46 - loss: 18.4568 - acc: 0.89 - ETA: 5:45 - loss: 18.2869 - acc: 0.89 - ETA: 5:44 - loss: 18.1225 - acc: 0.89 - ETA: 5:44 - loss: 17.9584 - acc: 0.90 - ETA: 5:43 - loss: 17.7968 - acc: 0.90 - ETA: 5:42 - loss: 17.6387 - acc: 0.90 - ETA: 5:41 - loss: 17.4934 - acc: 0.90 - ETA: 5:40 - loss: 17.3418 - acc: 0.90 - ETA: 5:39 - loss: 17.1931 - acc: 0.90 - ETA: 5:38 - loss: 17.0454 - acc: 0.90 - ETA: 5:38 - loss: 16.9011 - acc: 0.90 - ETA: 5:37 - loss: 16.7587 - acc: 0.90 - ETA: 5:36 - loss: 16.6196 - acc: 0.90 - ETA: 5:35 - loss: 16.4824 - acc: 0.90 - ETA: 5:34 - loss: 16.3471 - acc: 0.90 - ETA: 5:33 - loss: 16.2135 - acc: 0.90 - ETA: 5:33 - loss: 16.0821 - acc: 0.90 - ETA: 5:32 - loss: 15.9535 - acc: 0.90 - ETA: 5:31 - loss: 15.8263 - acc: 0.90 - ETA: 5:30 - loss: 15.7012 - acc: 0.91 - ETA: 5:29 - loss: 15.5826 - acc: 0.91 - ETA: 5:29 - loss: 15.4627 - acc: 0.91 - ETA: 5:28 - loss: 15.3430 - acc: 0.91 - ETA: 5:27 - loss: 15.2272 - acc: 0.91 - ETA: 5:26 - loss: 15.1114 - acc: 0.91 - ETA: 5:25 - loss: 14.9972 - acc: 0.91 - ETA: 5:25 - loss: 14.8853 - acc: 0.91 - ETA: 5:24 - loss: 14.7749 - acc: 0.91 - ETA: 5:23 - loss: 14.6660 - acc: 0.91 - ETA: 5:22 - loss: 14.5586 - acc: 0.91 - ETA: 5:22 - loss: 14.4548 - acc: 0.91 - ETA: 5:21 - loss: 14.3512 - acc: 0.91 - ETA: 5:20 - loss: 14.2483 - acc: 0.91 - ETA: 5:19 - loss: 14.1470 - acc: 0.91 - ETA: 5:19 - loss: 14.0472 - acc: 0.91 - ETA: 5:18 - loss: 13.9485 - acc: 0.91 - ETA: 5:17 - loss: 13.8513 - acc: 0.91 - ETA: 5:16 - loss: 13.7555 - acc: 0.91 - ETA: 5:16 - loss: 13.6609 - acc: 0.92 - ETA: 5:15 - loss: 13.5676 - acc: 0.92 - ETA: 5:14 - loss: 13.4755 - acc: 0.92 - ETA: 5:13 - loss: 13.3846 - acc: 0.92 - ETA: 5:13 - loss: 13.2950 - acc: 0.92 - ETA: 5:12 - loss: 13.2065 - acc: 0.92 - ETA: 5:11 - loss: 13.1192 - acc: 0.92 - ETA: 5:10 - loss: 13.0330 - acc: 0.92 - ETA: 5:10 - loss: 12.9484 - acc: 0.92 - ETA: 5:09 - loss: 12.8647 - acc: 0.92 - ETA: 5:08 - loss: 12.7819 - acc: 0.92 - ETA: 5:08 - loss: 12.7001 - acc: 0.92 - ETA: 5:07 - loss: 12.6199 - acc: 0.92 - ETA: 5:06 - loss: 12.5402 - acc: 0.92 - ETA: 5:05 - loss: 12.4615 - acc: 0.92 - ETA: 5:05 - loss: 12.3838 - acc: 0.92 - ETA: 5:04 - loss: 12.3069 - acc: 0.92 - ETA: 5:03 - loss: 12.2310 - acc: 0.92 - ETA: 5:03 - loss: 12.1561 - acc: 0.92 - ETA: 5:02 - loss: 12.0820 - acc: 0.92 - ETA: 5:01 - loss: 12.0101 - acc: 0.92 - ETA: 5:01 - loss: 11.9385 - acc: 0.92 - ETA: 5:00 - loss: 11.8672 - acc: 0.92 - ETA: 4:59 - loss: 11.7967 - acc: 0.92 - ETA: 4:59 - loss: 11.7272 - acc: 0.92 - ETA: 4:58 - loss: 11.6584 - acc: 0.93 - ETA: 4:57 - loss: 11.5906 - acc: 0.93 - ETA: 4:56 - loss: 11.5233 - acc: 0.93 - ETA: 4:56 - loss: 11.4577 - acc: 0.93 - ETA: 4:55 - loss: 11.3953 - acc: 0.93 - ETA: 4:54 - loss: 11.3304 - acc: 0.93 - ETA: 4:54 - loss: 11.2660 - acc: 0.93 - ETA: 4:53 - loss: 11.2026 - acc: 0.93 - ETA: 4:52 - loss: 11.1398 - acc: 0.93 - ETA: 4:52 - loss: 11.0777 - acc: 0.93 - ETA: 4:51 - loss: 11.0163 - acc: 0.93 - ETA: 4:50 - loss: 10.9557 - acc: 0.93 - ETA: 4:49 - loss: 10.8956 - acc: 0.93 - ETA: 4:49 - loss: 10.8361 - acc: 0.93 - ETA: 4:48 - loss: 10.7773 - acc: 0.93 - ETA: 4:47 - loss: 10.7192 - acc: 0.93 - ETA: 4:47 - loss: 10.6617 - acc: 0.93 - ETA: 4:46 - loss: 10.6048 - acc: 0.93 - ETA: 4:45 - loss: 10.5486 - acc: 0.93 - ETA: 4:45 - loss: 10.4929 - acc: 0.93 - ETA: 4:46 - loss: 10.4380 - acc: 0.93 - ETA: 4:47 - loss: 10.3833 - acc: 0.93 - ETA: 4:48 - loss: 10.3294 - acc: 0.93 - ETA: 4:49 - loss: 10.2761 - acc: 0.93 - ETA: 4:49 - loss: 10.2232 - acc: 0.93 - ETA: 4:50 - loss: 10.1708 - acc: 0.93 - ETA: 4:51 - loss: 10.1190 - acc: 0.93 - ETA: 4:52 - loss: 10.0677 - acc: 0.93 - ETA: 4:53 - loss: 10.0170 - acc: 0.93 - ETA: 4:54 - loss: 9.9667 - acc: 0.9397 - ETA: 4:54 - loss: 9.9169 - acc: 0.940 - ETA: 4:55 - loss: 9.8677 - acc: 0.940 - ETA: 4:56 - loss: 9.8188 - acc: 0.940 - ETA: 4:56 - loss: 9.7713 - acc: 0.9404\b\b\b\b\b\b\b\b\b\b\b\b\b\b\b\b\b\b\b\b\b\b\b\b\b\b\b\b\b\b\b\b\b\b\b\b\b\b\b\b\b\b\b\b\b\b\b\b\b\b\b\b\b\b\b\b\b\b\b\b\b\b\b\b\b\b\b\b\b\b\b\b\b\b\b\b\b\b\b\b\b\b\b\b\b"
     ]
    },
    {
     "name": "stdout",
     "output_type": "stream",
     "text": [
      " 8140/11998 [===================>..........] - ETA: 4:56 - loss: 9.7235 - acc: 0.940 - ETA: 4:55 - loss: 9.6766 - acc: 0.940 - ETA: 4:54 - loss: 9.6300 - acc: 0.941 - ETA: 4:53 - loss: 9.5836 - acc: 0.941 - ETA: 4:52 - loss: 9.5376 - acc: 0.941 - ETA: 4:52 - loss: 9.4920 - acc: 0.941 - ETA: 4:51 - loss: 9.4469 - acc: 0.942 - ETA: 4:50 - loss: 9.4022 - acc: 0.942 - ETA: 4:49 - loss: 9.3580 - acc: 0.942 - ETA: 4:48 - loss: 9.3141 - acc: 0.943 - ETA: 4:47 - loss: 9.2707 - acc: 0.943 - ETA: 4:47 - loss: 9.2277 - acc: 0.943 - ETA: 4:46 - loss: 9.1852 - acc: 0.943 - ETA: 4:45 - loss: 9.1429 - acc: 0.944 - ETA: 4:44 - loss: 9.1010 - acc: 0.944 - ETA: 4:43 - loss: 9.0594 - acc: 0.944 - ETA: 4:43 - loss: 9.0184 - acc: 0.944 - ETA: 4:42 - loss: 8.9776 - acc: 0.945 - ETA: 4:41 - loss: 8.9373 - acc: 0.945 - ETA: 4:40 - loss: 8.8973 - acc: 0.945 - ETA: 4:39 - loss: 8.8576 - acc: 0.945 - ETA: 4:38 - loss: 8.8183 - acc: 0.946 - ETA: 4:38 - loss: 8.7794 - acc: 0.946 - ETA: 4:37 - loss: 8.7408 - acc: 0.946 - ETA: 4:36 - loss: 8.7026 - acc: 0.946 - ETA: 4:35 - loss: 8.6646 - acc: 0.946 - ETA: 4:34 - loss: 8.6269 - acc: 0.947 - ETA: 4:34 - loss: 8.5896 - acc: 0.947 - ETA: 4:33 - loss: 8.5533 - acc: 0.947 - ETA: 4:32 - loss: 8.5166 - acc: 0.947 - ETA: 4:31 - loss: 8.4802 - acc: 0.947 - ETA: 4:30 - loss: 8.4442 - acc: 0.948 - ETA: 4:29 - loss: 8.4086 - acc: 0.948 - ETA: 4:29 - loss: 8.3732 - acc: 0.948 - ETA: 4:28 - loss: 8.3380 - acc: 0.948 - ETA: 4:27 - loss: 8.3033 - acc: 0.949 - ETA: 4:26 - loss: 8.2696 - acc: 0.949 - ETA: 4:25 - loss: 8.2359 - acc: 0.949 - ETA: 4:25 - loss: 8.2019 - acc: 0.949 - ETA: 4:24 - loss: 8.1682 - acc: 0.949 - ETA: 4:23 - loss: 8.1347 - acc: 0.949 - ETA: 4:22 - loss: 8.1015 - acc: 0.949 - ETA: 4:21 - loss: 8.0691 - acc: 0.949 - ETA: 4:21 - loss: 8.0365 - acc: 0.950 - ETA: 4:20 - loss: 8.0044 - acc: 0.950 - ETA: 4:19 - loss: 7.9723 - acc: 0.950 - ETA: 4:18 - loss: 7.9404 - acc: 0.950 - ETA: 4:17 - loss: 7.9089 - acc: 0.950 - ETA: 4:17 - loss: 7.8776 - acc: 0.951 - ETA: 4:16 - loss: 7.8464 - acc: 0.951 - ETA: 4:15 - loss: 7.8156 - acc: 0.951 - ETA: 4:14 - loss: 7.7850 - acc: 0.951 - ETA: 4:14 - loss: 7.7547 - acc: 0.951 - ETA: 4:13 - loss: 7.7246 - acc: 0.951 - ETA: 4:13 - loss: 7.6947 - acc: 0.952 - ETA: 4:13 - loss: 7.6650 - acc: 0.952 - ETA: 4:14 - loss: 7.6356 - acc: 0.952 - ETA: 4:14 - loss: 7.6063 - acc: 0.952 - ETA: 4:14 - loss: 7.5774 - acc: 0.952 - ETA: 4:14 - loss: 7.5488 - acc: 0.953 - ETA: 4:14 - loss: 7.5204 - acc: 0.953 - ETA: 4:14 - loss: 7.4920 - acc: 0.953 - ETA: 4:15 - loss: 7.4640 - acc: 0.953 - ETA: 4:15 - loss: 7.4363 - acc: 0.953 - ETA: 4:15 - loss: 7.4085 - acc: 0.953 - ETA: 4:15 - loss: 7.3811 - acc: 0.953 - ETA: 4:15 - loss: 7.3538 - acc: 0.954 - ETA: 4:15 - loss: 7.3268 - acc: 0.954 - ETA: 4:15 - loss: 7.2999 - acc: 0.954 - ETA: 4:15 - loss: 7.2733 - acc: 0.954 - ETA: 4:15 - loss: 7.2468 - acc: 0.954 - ETA: 4:15 - loss: 7.2205 - acc: 0.954 - ETA: 4:15 - loss: 7.1945 - acc: 0.954 - ETA: 4:15 - loss: 7.1698 - acc: 0.954 - ETA: 4:15 - loss: 7.1441 - acc: 0.955 - ETA: 4:15 - loss: 7.1185 - acc: 0.955 - ETA: 4:15 - loss: 7.0931 - acc: 0.955 - ETA: 4:15 - loss: 7.0679 - acc: 0.955 - ETA: 4:15 - loss: 7.0430 - acc: 0.955 - ETA: 4:15 - loss: 7.0182 - acc: 0.955 - ETA: 4:15 - loss: 6.9936 - acc: 0.956 - ETA: 4:15 - loss: 6.9692 - acc: 0.956 - ETA: 4:14 - loss: 6.9450 - acc: 0.956 - ETA: 4:13 - loss: 6.9209 - acc: 0.956 - ETA: 4:12 - loss: 6.8969 - acc: 0.956 - ETA: 4:11 - loss: 6.8731 - acc: 0.956 - ETA: 4:10 - loss: 6.8494 - acc: 0.956 - ETA: 4:09 - loss: 6.8259 - acc: 0.957 - ETA: 4:08 - loss: 6.8031 - acc: 0.957 - ETA: 4:07 - loss: 6.7799 - acc: 0.957 - ETA: 4:06 - loss: 6.7568 - acc: 0.957 - ETA: 4:05 - loss: 6.7339 - acc: 0.957 - ETA: 4:05 - loss: 6.7113 - acc: 0.957 - ETA: 4:04 - loss: 6.6895 - acc: 0.957 - ETA: 4:03 - loss: 6.6670 - acc: 0.957 - ETA: 4:02 - loss: 6.6455 - acc: 0.957 - ETA: 4:01 - loss: 6.6235 - acc: 0.957 - ETA: 4:00 - loss: 6.6015 - acc: 0.958 - ETA: 3:59 - loss: 6.5798 - acc: 0.958 - ETA: 3:58 - loss: 6.5583 - acc: 0.958 - ETA: 3:57 - loss: 6.5368 - acc: 0.958 - ETA: 3:56 - loss: 6.5155 - acc: 0.958 - ETA: 3:55 - loss: 6.4943 - acc: 0.958 - ETA: 3:55 - loss: 6.4733 - acc: 0.958 - ETA: 3:54 - loss: 6.4523 - acc: 0.958 - ETA: 3:53 - loss: 6.4315 - acc: 0.959 - ETA: 3:52 - loss: 6.4108 - acc: 0.959 - ETA: 3:51 - loss: 6.3902 - acc: 0.959 - ETA: 3:50 - loss: 6.3698 - acc: 0.959 - ETA: 3:49 - loss: 6.3495 - acc: 0.959 - ETA: 3:48 - loss: 6.3294 - acc: 0.959 - ETA: 3:47 - loss: 6.3094 - acc: 0.959 - ETA: 3:47 - loss: 6.2894 - acc: 0.960 - ETA: 3:46 - loss: 6.2696 - acc: 0.960 - ETA: 3:46 - loss: 6.2499 - acc: 0.960 - ETA: 3:45 - loss: 6.2304 - acc: 0.960 - ETA: 3:45 - loss: 6.2117 - acc: 0.960 - ETA: 3:45 - loss: 6.1924 - acc: 0.960 - ETA: 3:45 - loss: 6.1732 - acc: 0.960 - ETA: 3:44 - loss: 6.1542 - acc: 0.960 - ETA: 3:44 - loss: 6.1352 - acc: 0.960 - ETA: 3:44 - loss: 6.1164 - acc: 0.960 - ETA: 3:44 - loss: 6.0977 - acc: 0.961 - ETA: 3:43 - loss: 6.0791 - acc: 0.961 - ETA: 3:43 - loss: 6.0607 - acc: 0.961 - ETA: 3:43 - loss: 6.0423 - acc: 0.961 - ETA: 3:43 - loss: 6.0241 - acc: 0.961 - ETA: 3:42 - loss: 6.0060 - acc: 0.961 - ETA: 3:42 - loss: 5.9879 - acc: 0.961 - ETA: 3:42 - loss: 5.9700 - acc: 0.961 - ETA: 3:41 - loss: 5.9526 - acc: 0.961 - ETA: 3:41 - loss: 5.9348 - acc: 0.961 - ETA: 3:41 - loss: 5.9172 - acc: 0.962 - ETA: 3:40 - loss: 5.9000 - acc: 0.962 - ETA: 3:40 - loss: 5.8825 - acc: 0.962 - ETA: 3:40 - loss: 5.8652 - acc: 0.962 - ETA: 3:39 - loss: 5.8480 - acc: 0.962 - ETA: 3:39 - loss: 5.8309 - acc: 0.962 - ETA: 3:39 - loss: 5.8139 - acc: 0.962 - ETA: 3:38 - loss: 5.7970 - acc: 0.962 - ETA: 3:38 - loss: 5.7803 - acc: 0.962 - ETA: 3:37 - loss: 5.7637 - acc: 0.962 - ETA: 3:37 - loss: 5.7471 - acc: 0.962 - ETA: 3:36 - loss: 5.7305 - acc: 0.963 - ETA: 3:35 - loss: 5.7145 - acc: 0.962 - ETA: 3:34 - loss: 5.6987 - acc: 0.962 - ETA: 3:33 - loss: 5.6824 - acc: 0.963 - ETA: 3:32 - loss: 5.6663 - acc: 0.963 - ETA: 3:31 - loss: 5.6502 - acc: 0.963 - ETA: 3:30 - loss: 5.6343 - acc: 0.963 - ETA: 3:29 - loss: 5.6184 - acc: 0.963 - ETA: 3:28 - loss: 5.6026 - acc: 0.963 - ETA: 3:27 - loss: 5.5869 - acc: 0.963 - ETA: 3:26 - loss: 5.5716 - acc: 0.963 - ETA: 3:25 - loss: 5.5561 - acc: 0.963 - ETA: 3:25 - loss: 5.5407 - acc: 0.963 - ETA: 3:24 - loss: 5.5254 - acc: 0.963 - ETA: 3:23 - loss: 5.5102 - acc: 0.964 - ETA: 3:22 - loss: 5.4950 - acc: 0.964 - ETA: 3:21 - loss: 5.4799 - acc: 0.964 - ETA: 3:20 - loss: 5.4648 - acc: 0.964 - ETA: 3:19 - loss: 5.4499 - acc: 0.964 - ETA: 3:18 - loss: 5.4350 - acc: 0.964 - ETA: 3:17 - loss: 5.4202 - acc: 0.964 - ETA: 3:16 - loss: 5.4056 - acc: 0.964 - ETA: 3:15 - loss: 5.3909 - acc: 0.964 - ETA: 3:14 - loss: 5.3765 - acc: 0.964 - ETA: 3:13 - loss: 5.3620 - acc: 0.965 - ETA: 3:12 - loss: 5.3476 - acc: 0.965 - ETA: 3:11 - loss: 5.3333 - acc: 0.965 - ETA: 3:10 - loss: 5.3191 - acc: 0.965 - ETA: 3:10 - loss: 5.3049 - acc: 0.965 - ETA: 3:09 - loss: 5.2909 - acc: 0.965 - ETA: 3:09 - loss: 5.2769 - acc: 0.965 - ETA: 3:08 - loss: 5.2629 - acc: 0.965 - ETA: 3:08 - loss: 5.2491 - acc: 0.965 - ETA: 3:07 - loss: 5.2353 - acc: 0.965 - ETA: 3:07 - loss: 5.2217 - acc: 0.965 - ETA: 3:06 - loss: 5.2080 - acc: 0.965 - ETA: 3:06 - loss: 5.1944 - acc: 0.965 - ETA: 3:05 - loss: 5.1819 - acc: 0.965 - ETA: 3:05 - loss: 5.1685 - acc: 0.965 - ETA: 3:04 - loss: 5.1551 - acc: 0.965 - ETA: 3:04 - loss: 5.1418 - acc: 0.966 - ETA: 3:03 - loss: 5.1285 - acc: 0.966 - ETA: 3:03 - loss: 5.1153 - acc: 0.966 - ETA: 3:02 - loss: 5.1040 - acc: 0.966 - ETA: 3:01 - loss: 5.0909 - acc: 0.966 - ETA: 3:01 - loss: 5.0779 - acc: 0.966 - ETA: 3:00 - loss: 5.0651 - acc: 0.966 - ETA: 3:00 - loss: 5.0522 - acc: 0.966 - ETA: 2:59 - loss: 5.0395 - acc: 0.966 - ETA: 2:59 - loss: 5.0268 - acc: 0.966 - ETA: 2:58 - loss: 5.0142 - acc: 0.966 - ETA: 2:57 - loss: 5.0016 - acc: 0.966 - ETA: 2:57 - loss: 4.9892 - acc: 0.966 - ETA: 2:56 - loss: 4.9768 - acc: 0.966 - ETA: 2:56 - loss: 4.9644 - acc: 0.967 - ETA: 2:55 - loss: 4.9521 - acc: 0.967 - ETA: 2:55 - loss: 4.9399 - acc: 0.967 - ETA: 2:54 - loss: 4.9277 - acc: 0.967 - ETA: 2:53 - loss: 4.9156 - acc: 0.967 - ETA: 2:53 - loss: 4.9035 - acc: 0.967 - ETA: 2:52 - loss: 4.8915 - acc: 0.9674"
     ]
    },
    {
     "name": "stdout",
     "output_type": "stream",
     "text": [
      "11998/11998 [==============================] - ETA: 2:51 - loss: 4.8795 - acc: 0.967 - ETA: 2:51 - loss: 4.8677 - acc: 0.967 - ETA: 2:50 - loss: 4.8561 - acc: 0.967 - ETA: 2:50 - loss: 4.8444 - acc: 0.967 - ETA: 2:49 - loss: 4.8332 - acc: 0.967 - ETA: 2:48 - loss: 4.8215 - acc: 0.967 - ETA: 2:48 - loss: 4.8099 - acc: 0.967 - ETA: 2:47 - loss: 4.7984 - acc: 0.967 - ETA: 2:46 - loss: 4.7869 - acc: 0.967 - ETA: 2:46 - loss: 4.7754 - acc: 0.968 - ETA: 2:45 - loss: 4.7641 - acc: 0.967 - ETA: 2:44 - loss: 4.7529 - acc: 0.968 - ETA: 2:44 - loss: 4.7416 - acc: 0.968 - ETA: 2:43 - loss: 4.7303 - acc: 0.968 - ETA: 2:42 - loss: 4.7191 - acc: 0.968 - ETA: 2:42 - loss: 4.7080 - acc: 0.968 - ETA: 2:41 - loss: 4.6969 - acc: 0.968 - ETA: 2:40 - loss: 4.6859 - acc: 0.968 - ETA: 2:40 - loss: 4.6749 - acc: 0.968 - ETA: 2:39 - loss: 4.6640 - acc: 0.968 - ETA: 2:38 - loss: 4.6531 - acc: 0.968 - ETA: 2:38 - loss: 4.6423 - acc: 0.968 - ETA: 2:37 - loss: 4.6316 - acc: 0.968 - ETA: 2:36 - loss: 4.6208 - acc: 0.968 - ETA: 2:35 - loss: 4.6102 - acc: 0.969 - ETA: 2:35 - loss: 4.5995 - acc: 0.969 - ETA: 2:34 - loss: 4.5889 - acc: 0.969 - ETA: 2:33 - loss: 4.5784 - acc: 0.969 - ETA: 2:33 - loss: 4.5679 - acc: 0.969 - ETA: 2:32 - loss: 4.5575 - acc: 0.969 - ETA: 2:31 - loss: 4.5471 - acc: 0.969 - ETA: 2:30 - loss: 4.5368 - acc: 0.969 - ETA: 2:29 - loss: 4.5265 - acc: 0.969 - ETA: 2:28 - loss: 4.5163 - acc: 0.969 - ETA: 2:27 - loss: 4.5061 - acc: 0.969 - ETA: 2:26 - loss: 4.4960 - acc: 0.969 - ETA: 2:25 - loss: 4.4859 - acc: 0.969 - ETA: 2:24 - loss: 4.4758 - acc: 0.969 - ETA: 2:23 - loss: 4.4658 - acc: 0.970 - ETA: 2:22 - loss: 4.4558 - acc: 0.970 - ETA: 2:21 - loss: 4.4459 - acc: 0.970 - ETA: 2:20 - loss: 4.4360 - acc: 0.970 - ETA: 2:19 - loss: 4.4263 - acc: 0.970 - ETA: 2:18 - loss: 4.4165 - acc: 0.970 - ETA: 2:17 - loss: 4.4068 - acc: 0.970 - ETA: 2:16 - loss: 4.3970 - acc: 0.970 - ETA: 2:15 - loss: 4.3874 - acc: 0.970 - ETA: 2:14 - loss: 4.3777 - acc: 0.970 - ETA: 2:13 - loss: 4.3682 - acc: 0.970 - ETA: 2:12 - loss: 4.3587 - acc: 0.970 - ETA: 2:11 - loss: 4.3492 - acc: 0.970 - ETA: 2:10 - loss: 4.3397 - acc: 0.970 - ETA: 2:09 - loss: 4.3303 - acc: 0.970 - ETA: 2:08 - loss: 4.3209 - acc: 0.970 - ETA: 2:07 - loss: 4.3117 - acc: 0.970 - ETA: 2:06 - loss: 4.3024 - acc: 0.970 - ETA: 2:05 - loss: 4.2931 - acc: 0.970 - ETA: 2:04 - loss: 4.2848 - acc: 0.970 - ETA: 2:03 - loss: 4.2756 - acc: 0.970 - ETA: 2:02 - loss: 4.2665 - acc: 0.970 - ETA: 2:01 - loss: 4.2574 - acc: 0.970 - ETA: 2:00 - loss: 4.2490 - acc: 0.970 - ETA: 2:00 - loss: 4.2400 - acc: 0.971 - ETA: 1:59 - loss: 4.2310 - acc: 0.971 - ETA: 1:58 - loss: 4.2221 - acc: 0.971 - ETA: 1:57 - loss: 4.2132 - acc: 0.971 - ETA: 1:57 - loss: 4.2043 - acc: 0.971 - ETA: 1:56 - loss: 4.1955 - acc: 0.971 - ETA: 1:55 - loss: 4.1876 - acc: 0.971 - ETA: 1:54 - loss: 4.1788 - acc: 0.971 - ETA: 1:53 - loss: 4.1706 - acc: 0.971 - ETA: 1:53 - loss: 4.1619 - acc: 0.971 - ETA: 1:52 - loss: 4.1533 - acc: 0.971 - ETA: 1:51 - loss: 4.1458 - acc: 0.971 - ETA: 1:50 - loss: 4.1372 - acc: 0.971 - ETA: 1:49 - loss: 4.1287 - acc: 0.971 - ETA: 1:49 - loss: 4.1202 - acc: 0.971 - ETA: 1:48 - loss: 4.1117 - acc: 0.971 - ETA: 1:47 - loss: 4.1036 - acc: 0.971 - ETA: 1:46 - loss: 4.0965 - acc: 0.971 - ETA: 1:45 - loss: 4.0882 - acc: 0.971 - ETA: 1:44 - loss: 4.0798 - acc: 0.971 - ETA: 1:44 - loss: 4.0725 - acc: 0.971 - ETA: 1:43 - loss: 4.0642 - acc: 0.971 - ETA: 1:42 - loss: 4.0560 - acc: 0.971 - ETA: 1:41 - loss: 4.0484 - acc: 0.971 - ETA: 1:40 - loss: 4.0403 - acc: 0.971 - ETA: 1:39 - loss: 4.0322 - acc: 0.971 - ETA: 1:39 - loss: 4.0240 - acc: 0.971 - ETA: 1:38 - loss: 4.0160 - acc: 0.971 - ETA: 1:37 - loss: 4.0081 - acc: 0.971 - ETA: 1:36 - loss: 4.0001 - acc: 0.971 - ETA: 1:35 - loss: 3.9926 - acc: 0.971 - ETA: 1:34 - loss: 3.9846 - acc: 0.971 - ETA: 1:33 - loss: 3.9767 - acc: 0.971 - ETA: 1:33 - loss: 3.9690 - acc: 0.971 - ETA: 1:32 - loss: 3.9612 - acc: 0.971 - ETA: 1:31 - loss: 3.9534 - acc: 0.971 - ETA: 1:30 - loss: 3.9456 - acc: 0.971 - ETA: 1:29 - loss: 3.9379 - acc: 0.971 - ETA: 1:28 - loss: 3.9303 - acc: 0.971 - ETA: 1:27 - loss: 3.9226 - acc: 0.971 - ETA: 1:27 - loss: 3.9152 - acc: 0.971 - ETA: 1:26 - loss: 3.9076 - acc: 0.971 - ETA: 1:25 - loss: 3.9001 - acc: 0.971 - ETA: 1:24 - loss: 3.8925 - acc: 0.971 - ETA: 1:23 - loss: 3.8850 - acc: 0.971 - ETA: 1:22 - loss: 3.8775 - acc: 0.971 - ETA: 1:21 - loss: 3.8701 - acc: 0.972 - ETA: 1:20 - loss: 3.8628 - acc: 0.972 - ETA: 1:19 - loss: 3.8555 - acc: 0.972 - ETA: 1:19 - loss: 3.8481 - acc: 0.972 - ETA: 1:18 - loss: 3.8408 - acc: 0.972 - ETA: 1:17 - loss: 3.8337 - acc: 0.972 - ETA: 1:16 - loss: 3.8266 - acc: 0.972 - ETA: 1:15 - loss: 3.8194 - acc: 0.972 - ETA: 1:14 - loss: 3.8121 - acc: 0.972 - ETA: 1:13 - loss: 3.8049 - acc: 0.972 - ETA: 1:12 - loss: 3.7977 - acc: 0.972 - ETA: 1:11 - loss: 3.7906 - acc: 0.972 - ETA: 1:10 - loss: 3.7834 - acc: 0.972 - ETA: 1:09 - loss: 3.7763 - acc: 0.972 - ETA: 1:09 - loss: 3.7692 - acc: 0.972 - ETA: 1:08 - loss: 3.7621 - acc: 0.972 - ETA: 1:07 - loss: 3.7553 - acc: 0.972 - ETA: 1:06 - loss: 3.7483 - acc: 0.972 - ETA: 1:05 - loss: 3.7414 - acc: 0.972 - ETA: 1:04 - loss: 3.7344 - acc: 0.972 - ETA: 1:03 - loss: 3.7277 - acc: 0.972 - ETA: 1:02 - loss: 3.7208 - acc: 0.972 - ETA: 1:01 - loss: 3.7139 - acc: 0.972 - ETA: 1:00 - loss: 3.7071 - acc: 0.972 - ETA: 59s - loss: 3.7002 - acc: 0.972 - ETA: 58s - loss: 3.6934 - acc: 0.97 - ETA: 57s - loss: 3.6867 - acc: 0.97 - ETA: 56s - loss: 3.6799 - acc: 0.97 - ETA: 55s - loss: 3.6732 - acc: 0.97 - ETA: 54s - loss: 3.6664 - acc: 0.97 - ETA: 53s - loss: 3.6597 - acc: 0.97 - ETA: 53s - loss: 3.6532 - acc: 0.97 - ETA: 52s - loss: 3.6466 - acc: 0.97 - ETA: 51s - loss: 3.6400 - acc: 0.97 - ETA: 50s - loss: 3.6334 - acc: 0.97 - ETA: 49s - loss: 3.6268 - acc: 0.97 - ETA: 48s - loss: 3.6203 - acc: 0.97 - ETA: 47s - loss: 3.6141 - acc: 0.97 - ETA: 46s - loss: 3.6075 - acc: 0.97 - ETA: 45s - loss: 3.6011 - acc: 0.97 - ETA: 44s - loss: 3.5946 - acc: 0.97 - ETA: 43s - loss: 3.5882 - acc: 0.97 - ETA: 42s - loss: 3.5821 - acc: 0.97 - ETA: 41s - loss: 3.5757 - acc: 0.97 - ETA: 40s - loss: 3.5693 - acc: 0.97 - ETA: 39s - loss: 3.5630 - acc: 0.97 - ETA: 38s - loss: 3.5572 - acc: 0.97 - ETA: 37s - loss: 3.5509 - acc: 0.97 - ETA: 36s - loss: 3.5447 - acc: 0.97 - ETA: 35s - loss: 3.5384 - acc: 0.97 - ETA: 34s - loss: 3.5322 - acc: 0.97 - ETA: 33s - loss: 3.5260 - acc: 0.97 - ETA: 32s - loss: 3.5199 - acc: 0.97 - ETA: 31s - loss: 3.5137 - acc: 0.97 - ETA: 30s - loss: 3.5076 - acc: 0.97 - ETA: 29s - loss: 3.5015 - acc: 0.97 - ETA: 28s - loss: 3.4954 - acc: 0.97 - ETA: 27s - loss: 3.4894 - acc: 0.97 - ETA: 26s - loss: 3.4834 - acc: 0.97 - ETA: 25s - loss: 3.4774 - acc: 0.97 - ETA: 24s - loss: 3.4713 - acc: 0.97 - ETA: 23s - loss: 3.4653 - acc: 0.97 - ETA: 22s - loss: 3.4594 - acc: 0.97 - ETA: 21s - loss: 3.4534 - acc: 0.97 - ETA: 20s - loss: 3.4475 - acc: 0.97 - ETA: 19s - loss: 3.4417 - acc: 0.97 - ETA: 18s - loss: 3.4358 - acc: 0.97 - ETA: 17s - loss: 3.4299 - acc: 0.97 - ETA: 16s - loss: 3.4240 - acc: 0.97 - ETA: 15s - loss: 3.4182 - acc: 0.97 - ETA: 14s - loss: 3.4124 - acc: 0.97 - ETA: 13s - loss: 3.4066 - acc: 0.97 - ETA: 12s - loss: 3.4012 - acc: 0.97 - ETA: 11s - loss: 3.3954 - acc: 0.97 - ETA: 10s - loss: 3.3896 - acc: 0.97 - ETA: 9s - loss: 3.3839 - acc: 0.9744 - ETA: 8s - loss: 3.3782 - acc: 0.974 - ETA: 7s - loss: 3.3726 - acc: 0.974 - ETA: 6s - loss: 3.3669 - acc: 0.974 - ETA: 5s - loss: 3.3613 - acc: 0.974 - ETA: 4s - loss: 3.3557 - acc: 0.974 - ETA: 3s - loss: 3.3502 - acc: 0.974 - ETA: 1s - loss: 3.3447 - acc: 0.974 - ETA: 0s - loss: 3.3391 - acc: 0.974 - 632s 53ms/sample - loss: 3.3341 - acc: 0.9745\n",
      "Epoch 2/3\n"
     ]
    },
    {
     "name": "stdout",
     "output_type": "stream",
     "text": [
      " 4080/11998 [=========>....................] - ETA: 14:46 - loss: 0.0093 - acc: 1.00 - ETA: 14:44 - loss: 0.0148 - acc: 1.00 - ETA: 14:42 - loss: 0.0141 - acc: 1.00 - ETA: 14:40 - loss: 0.0133 - acc: 1.00 - ETA: 14:39 - loss: 0.0133 - acc: 1.00 - ETA: 14:37 - loss: 0.0129 - acc: 1.00 - ETA: 14:36 - loss: 0.0112 - acc: 1.00 - ETA: 14:34 - loss: 0.0110 - acc: 1.00 - ETA: 14:32 - loss: 0.0115 - acc: 1.00 - ETA: 14:31 - loss: 0.0112 - acc: 1.00 - ETA: 14:29 - loss: 0.0126 - acc: 1.00 - ETA: 14:28 - loss: 0.0144 - acc: 1.00 - ETA: 14:26 - loss: 0.0152 - acc: 1.00 - ETA: 14:25 - loss: 0.0145 - acc: 1.00 - ETA: 14:23 - loss: 0.0153 - acc: 1.00 - ETA: 14:22 - loss: 0.0154 - acc: 1.00 - ETA: 14:20 - loss: 0.0153 - acc: 1.00 - ETA: 14:19 - loss: 0.0153 - acc: 1.00 - ETA: 14:17 - loss: 0.0148 - acc: 1.00 - ETA: 14:16 - loss: 0.0141 - acc: 1.00 - ETA: 14:15 - loss: 0.0143 - acc: 1.00 - ETA: 14:13 - loss: 0.0140 - acc: 1.00 - ETA: 14:12 - loss: 0.0141 - acc: 1.00 - ETA: 14:10 - loss: 0.0144 - acc: 1.00 - ETA: 14:09 - loss: 0.0140 - acc: 1.00 - ETA: 14:07 - loss: 0.0142 - acc: 1.00 - ETA: 14:06 - loss: 0.0139 - acc: 1.00 - ETA: 14:04 - loss: 0.0135 - acc: 1.00 - ETA: 14:03 - loss: 0.0133 - acc: 1.00 - ETA: 14:01 - loss: 0.0165 - acc: 0.99 - ETA: 14:00 - loss: 0.0186 - acc: 0.99 - ETA: 13:58 - loss: 0.0184 - acc: 0.99 - ETA: 13:57 - loss: 0.0179 - acc: 0.99 - ETA: 13:56 - loss: 0.0175 - acc: 0.99 - ETA: 13:54 - loss: 0.0173 - acc: 0.99 - ETA: 13:53 - loss: 0.0170 - acc: 0.99 - ETA: 13:51 - loss: 0.0168 - acc: 0.99 - ETA: 13:50 - loss: 0.0166 - acc: 0.99 - ETA: 13:48 - loss: 0.0162 - acc: 0.99 - ETA: 13:47 - loss: 0.0159 - acc: 0.99 - ETA: 13:45 - loss: 0.0158 - acc: 0.99 - ETA: 13:44 - loss: 0.0155 - acc: 0.99 - ETA: 13:42 - loss: 0.0151 - acc: 0.99 - ETA: 13:41 - loss: 0.0150 - acc: 0.99 - ETA: 13:39 - loss: 0.0152 - acc: 0.99 - ETA: 13:38 - loss: 0.0148 - acc: 0.99 - ETA: 13:36 - loss: 0.0146 - acc: 0.99 - ETA: 13:35 - loss: 0.0145 - acc: 0.99 - ETA: 13:33 - loss: 0.0143 - acc: 0.99 - ETA: 13:32 - loss: 0.0140 - acc: 0.99 - ETA: 13:30 - loss: 0.0161 - acc: 0.99 - ETA: 13:29 - loss: 0.0159 - acc: 0.99 - ETA: 13:28 - loss: 0.0156 - acc: 0.99 - ETA: 13:26 - loss: 0.0154 - acc: 0.99 - ETA: 13:25 - loss: 0.0152 - acc: 0.99 - ETA: 13:23 - loss: 0.0150 - acc: 0.99 - ETA: 13:22 - loss: 0.0148 - acc: 0.99 - ETA: 13:20 - loss: 0.0145 - acc: 0.99 - ETA: 13:19 - loss: 0.0143 - acc: 0.99 - ETA: 13:17 - loss: 0.0141 - acc: 0.99 - ETA: 13:16 - loss: 0.0139 - acc: 0.99 - ETA: 13:14 - loss: 0.0137 - acc: 0.99 - ETA: 13:13 - loss: 0.0135 - acc: 0.99 - ETA: 13:11 - loss: 0.0133 - acc: 0.99 - ETA: 13:10 - loss: 0.0132 - acc: 0.99 - ETA: 13:08 - loss: 0.0130 - acc: 0.99 - ETA: 13:07 - loss: 0.0128 - acc: 0.99 - ETA: 13:05 - loss: 0.0126 - acc: 0.99 - ETA: 13:04 - loss: 0.0125 - acc: 0.99 - ETA: 13:02 - loss: 0.0123 - acc: 0.99 - ETA: 13:01 - loss: 0.0122 - acc: 0.99 - ETA: 12:59 - loss: 0.0120 - acc: 0.99 - ETA: 12:58 - loss: 0.0119 - acc: 0.99 - ETA: 12:57 - loss: 0.0117 - acc: 0.99 - ETA: 12:55 - loss: 0.0116 - acc: 0.99 - ETA: 12:54 - loss: 0.0115 - acc: 0.99 - ETA: 12:52 - loss: 0.0113 - acc: 0.99 - ETA: 12:51 - loss: 0.0112 - acc: 0.99 - ETA: 12:49 - loss: 0.0111 - acc: 0.99 - ETA: 12:48 - loss: 0.0109 - acc: 0.99 - ETA: 12:46 - loss: 0.0108 - acc: 0.99 - ETA: 12:45 - loss: 0.0107 - acc: 0.99 - ETA: 12:43 - loss: 0.0106 - acc: 0.99 - ETA: 12:42 - loss: 0.0105 - acc: 0.99 - ETA: 12:40 - loss: 0.0115 - acc: 0.99 - ETA: 12:39 - loss: 0.0114 - acc: 0.99 - ETA: 12:37 - loss: 0.0113 - acc: 0.99 - ETA: 12:36 - loss: 0.0112 - acc: 0.99 - ETA: 12:34 - loss: 0.0111 - acc: 0.99 - ETA: 12:33 - loss: 0.0109 - acc: 0.99 - ETA: 12:31 - loss: 0.0108 - acc: 0.99 - ETA: 12:30 - loss: 0.0107 - acc: 0.99 - ETA: 12:28 - loss: 0.0106 - acc: 0.99 - ETA: 12:27 - loss: 0.0105 - acc: 0.99 - ETA: 12:26 - loss: 0.0104 - acc: 0.99 - ETA: 12:24 - loss: 0.0103 - acc: 0.99 - ETA: 12:23 - loss: 0.0103 - acc: 0.99 - ETA: 12:21 - loss: 0.0103 - acc: 0.99 - ETA: 12:20 - loss: 0.0102 - acc: 0.99 - ETA: 12:18 - loss: 0.0101 - acc: 0.99 - ETA: 12:17 - loss: 0.0101 - acc: 0.99 - ETA: 12:15 - loss: 0.0100 - acc: 0.99 - ETA: 12:14 - loss: 0.0099 - acc: 0.99 - ETA: 12:12 - loss: 0.0098 - acc: 0.99 - ETA: 12:11 - loss: 0.0098 - acc: 0.99 - ETA: 12:09 - loss: 0.0097 - acc: 0.99 - ETA: 12:08 - loss: 0.0096 - acc: 0.99 - ETA: 12:06 - loss: 0.0095 - acc: 0.99 - ETA: 12:05 - loss: 0.0094 - acc: 0.99 - ETA: 12:03 - loss: 0.0094 - acc: 0.99 - ETA: 12:02 - loss: 0.0093 - acc: 0.99 - ETA: 12:00 - loss: 0.0092 - acc: 0.99 - ETA: 11:59 - loss: 0.0091 - acc: 0.99 - ETA: 11:57 - loss: 0.0090 - acc: 0.99 - ETA: 11:56 - loss: 0.0090 - acc: 0.99 - ETA: 11:55 - loss: 0.0089 - acc: 0.99 - ETA: 11:53 - loss: 0.0088 - acc: 0.99 - ETA: 11:52 - loss: 0.0088 - acc: 0.99 - ETA: 11:50 - loss: 0.0087 - acc: 0.99 - ETA: 11:49 - loss: 0.0086 - acc: 0.99 - ETA: 11:47 - loss: 0.0086 - acc: 0.99 - ETA: 11:46 - loss: 0.0085 - acc: 0.99 - ETA: 11:44 - loss: 0.0085 - acc: 0.99 - ETA: 11:43 - loss: 0.0084 - acc: 0.99 - ETA: 11:41 - loss: 0.0084 - acc: 0.99 - ETA: 11:40 - loss: 0.0084 - acc: 0.99 - ETA: 11:38 - loss: 0.0105 - acc: 0.99 - ETA: 11:37 - loss: 0.0104 - acc: 0.99 - ETA: 11:35 - loss: 0.0104 - acc: 0.99 - ETA: 11:34 - loss: 0.0103 - acc: 0.99 - ETA: 11:32 - loss: 0.0102 - acc: 0.99 - ETA: 11:31 - loss: 0.0102 - acc: 0.99 - ETA: 11:29 - loss: 0.0101 - acc: 0.99 - ETA: 11:28 - loss: 0.0100 - acc: 0.99 - ETA: 11:26 - loss: 0.0100 - acc: 0.99 - ETA: 11:25 - loss: 0.0099 - acc: 0.99 - ETA: 11:23 - loss: 0.0099 - acc: 0.99 - ETA: 11:22 - loss: 0.0098 - acc: 0.99 - ETA: 11:21 - loss: 0.0097 - acc: 0.99 - ETA: 11:19 - loss: 0.0097 - acc: 0.99 - ETA: 11:18 - loss: 0.0097 - acc: 0.99 - ETA: 11:16 - loss: 0.0096 - acc: 0.99 - ETA: 11:15 - loss: 0.0095 - acc: 0.99 - ETA: 11:13 - loss: 0.0095 - acc: 0.99 - ETA: 11:12 - loss: 0.0094 - acc: 0.99 - ETA: 11:10 - loss: 0.0094 - acc: 0.99 - ETA: 11:09 - loss: 0.0093 - acc: 0.99 - ETA: 11:07 - loss: 0.0093 - acc: 0.99 - ETA: 11:06 - loss: 0.0092 - acc: 0.99 - ETA: 11:04 - loss: 0.0092 - acc: 0.99 - ETA: 11:03 - loss: 0.0107 - acc: 0.99 - ETA: 11:01 - loss: 0.0107 - acc: 0.99 - ETA: 11:00 - loss: 0.0106 - acc: 0.99 - ETA: 10:58 - loss: 0.0105 - acc: 0.99 - ETA: 10:57 - loss: 0.0105 - acc: 0.99 - ETA: 10:55 - loss: 0.0104 - acc: 0.99 - ETA: 10:54 - loss: 0.0104 - acc: 0.99 - ETA: 10:52 - loss: 0.0103 - acc: 0.99 - ETA: 10:51 - loss: 0.0103 - acc: 0.99 - ETA: 10:50 - loss: 0.0102 - acc: 0.99 - ETA: 10:48 - loss: 0.0102 - acc: 0.99 - ETA: 10:47 - loss: 0.0101 - acc: 0.99 - ETA: 10:45 - loss: 0.0101 - acc: 0.99 - ETA: 10:44 - loss: 0.0101 - acc: 0.99 - ETA: 10:42 - loss: 0.0100 - acc: 0.99 - ETA: 10:41 - loss: 0.0100 - acc: 0.99 - ETA: 10:39 - loss: 0.0108 - acc: 0.99 - ETA: 10:38 - loss: 0.0107 - acc: 0.99 - ETA: 10:36 - loss: 0.0107 - acc: 0.99 - ETA: 10:35 - loss: 0.0107 - acc: 0.99 - ETA: 10:33 - loss: 0.0107 - acc: 0.99 - ETA: 10:32 - loss: 0.0106 - acc: 0.99 - ETA: 10:30 - loss: 0.0106 - acc: 0.99 - ETA: 10:29 - loss: 0.0105 - acc: 0.99 - ETA: 10:27 - loss: 0.0105 - acc: 0.99 - ETA: 10:26 - loss: 0.0104 - acc: 0.99 - ETA: 10:24 - loss: 0.0104 - acc: 0.99 - ETA: 10:23 - loss: 0.0103 - acc: 0.99 - ETA: 10:21 - loss: 0.0103 - acc: 0.99 - ETA: 10:20 - loss: 0.0102 - acc: 0.99 - ETA: 10:18 - loss: 0.0102 - acc: 0.99 - ETA: 10:17 - loss: 0.0101 - acc: 0.99 - ETA: 10:16 - loss: 0.0101 - acc: 0.99 - ETA: 10:14 - loss: 0.0101 - acc: 0.99 - ETA: 10:13 - loss: 0.0100 - acc: 0.99 - ETA: 10:11 - loss: 0.0107 - acc: 0.99 - ETA: 10:10 - loss: 0.0106 - acc: 0.99 - ETA: 10:08 - loss: 0.0106 - acc: 0.99 - ETA: 10:07 - loss: 0.0106 - acc: 0.99 - ETA: 10:05 - loss: 0.0107 - acc: 0.99 - ETA: 10:04 - loss: 0.0106 - acc: 0.99 - ETA: 10:02 - loss: 0.0106 - acc: 0.99 - ETA: 10:01 - loss: 0.0106 - acc: 0.99 - ETA: 9:59 - loss: 0.0105 - acc: 0.9979 - ETA: 9:58 - loss: 0.0105 - acc: 0.997 - ETA: 9:56 - loss: 0.0104 - acc: 0.998 - ETA: 9:55 - loss: 0.0104 - acc: 0.998 - ETA: 9:53 - loss: 0.0104 - acc: 0.998 - ETA: 9:52 - loss: 0.0103 - acc: 0.998 - ETA: 9:50 - loss: 0.0103 - acc: 0.998 - ETA: 9:49 - loss: 0.0103 - acc: 0.998 - ETA: 9:47 - loss: 0.0102 - acc: 0.998 - ETA: 9:46 - loss: 0.0102 - acc: 0.998 - ETA: 9:44 - loss: 0.0102 - acc: 0.9980"
     ]
    },
    {
     "name": "stdout",
     "output_type": "stream",
     "text": [
      " 8160/11998 [===================>..........] - ETA: 9:43 - loss: 0.0101 - acc: 0.998 - ETA: 9:42 - loss: 0.0101 - acc: 0.998 - ETA: 9:40 - loss: 0.0100 - acc: 0.998 - ETA: 9:39 - loss: 0.0100 - acc: 0.998 - ETA: 9:37 - loss: 0.0100 - acc: 0.998 - ETA: 9:36 - loss: 0.0099 - acc: 0.998 - ETA: 9:34 - loss: 0.0099 - acc: 0.998 - ETA: 9:33 - loss: 0.0099 - acc: 0.998 - ETA: 9:31 - loss: 0.0098 - acc: 0.998 - ETA: 9:30 - loss: 0.0098 - acc: 0.998 - ETA: 9:28 - loss: 0.0098 - acc: 0.998 - ETA: 9:27 - loss: 0.0097 - acc: 0.998 - ETA: 9:25 - loss: 0.0097 - acc: 0.998 - ETA: 9:24 - loss: 0.0096 - acc: 0.998 - ETA: 9:22 - loss: 0.0096 - acc: 0.998 - ETA: 9:21 - loss: 0.0096 - acc: 0.998 - ETA: 9:19 - loss: 0.0095 - acc: 0.998 - ETA: 9:18 - loss: 0.0095 - acc: 0.998 - ETA: 9:16 - loss: 0.0094 - acc: 0.998 - ETA: 9:15 - loss: 0.0094 - acc: 0.998 - ETA: 9:13 - loss: 0.0094 - acc: 0.998 - ETA: 9:12 - loss: 0.0093 - acc: 0.998 - ETA: 9:11 - loss: 0.0093 - acc: 0.998 - ETA: 9:09 - loss: 0.0107 - acc: 0.998 - ETA: 9:08 - loss: 0.0107 - acc: 0.998 - ETA: 9:06 - loss: 0.0106 - acc: 0.998 - ETA: 9:05 - loss: 0.0106 - acc: 0.998 - ETA: 9:03 - loss: 0.0106 - acc: 0.998 - ETA: 9:02 - loss: 0.0105 - acc: 0.998 - ETA: 9:00 - loss: 0.0105 - acc: 0.998 - ETA: 8:59 - loss: 0.0104 - acc: 0.998 - ETA: 8:57 - loss: 0.0104 - acc: 0.998 - ETA: 8:56 - loss: 0.0104 - acc: 0.998 - ETA: 8:54 - loss: 0.0104 - acc: 0.998 - ETA: 8:53 - loss: 0.0103 - acc: 0.998 - ETA: 8:51 - loss: 0.0109 - acc: 0.997 - ETA: 8:50 - loss: 0.0109 - acc: 0.997 - ETA: 8:48 - loss: 0.0109 - acc: 0.997 - ETA: 8:47 - loss: 0.0109 - acc: 0.997 - ETA: 8:45 - loss: 0.0109 - acc: 0.998 - ETA: 8:44 - loss: 0.0108 - acc: 0.998 - ETA: 8:42 - loss: 0.0108 - acc: 0.998 - ETA: 8:41 - loss: 0.0108 - acc: 0.998 - ETA: 8:40 - loss: 0.0108 - acc: 0.998 - ETA: 8:38 - loss: 0.0108 - acc: 0.998 - ETA: 8:37 - loss: 0.0108 - acc: 0.998 - ETA: 8:35 - loss: 0.0108 - acc: 0.998 - ETA: 8:34 - loss: 0.0107 - acc: 0.998 - ETA: 8:32 - loss: 0.0107 - acc: 0.998 - ETA: 8:31 - loss: 0.0107 - acc: 0.998 - ETA: 8:29 - loss: 0.0107 - acc: 0.998 - ETA: 8:28 - loss: 0.0107 - acc: 0.998 - ETA: 8:26 - loss: 0.0107 - acc: 0.998 - ETA: 8:25 - loss: 0.0107 - acc: 0.998 - ETA: 8:23 - loss: 0.0106 - acc: 0.998 - ETA: 8:22 - loss: 0.0106 - acc: 0.998 - ETA: 8:20 - loss: 0.0106 - acc: 0.998 - ETA: 8:19 - loss: 0.0105 - acc: 0.998 - ETA: 8:17 - loss: 0.0105 - acc: 0.998 - ETA: 8:16 - loss: 0.0105 - acc: 0.998 - ETA: 8:14 - loss: 0.0105 - acc: 0.998 - ETA: 8:13 - loss: 0.0105 - acc: 0.998 - ETA: 8:11 - loss: 0.0106 - acc: 0.997 - ETA: 8:10 - loss: 0.0106 - acc: 0.997 - ETA: 8:08 - loss: 0.0106 - acc: 0.998 - ETA: 8:07 - loss: 0.0105 - acc: 0.998 - ETA: 8:06 - loss: 0.0105 - acc: 0.998 - ETA: 8:04 - loss: 0.0105 - acc: 0.998 - ETA: 8:03 - loss: 0.0105 - acc: 0.998 - ETA: 8:01 - loss: 0.0105 - acc: 0.998 - ETA: 8:00 - loss: 0.0105 - acc: 0.998 - ETA: 7:58 - loss: 0.0104 - acc: 0.998 - ETA: 7:57 - loss: 0.0104 - acc: 0.998 - ETA: 7:55 - loss: 0.0104 - acc: 0.998 - ETA: 7:54 - loss: 0.0103 - acc: 0.998 - ETA: 7:52 - loss: 0.0103 - acc: 0.998 - ETA: 7:51 - loss: 0.0103 - acc: 0.998 - ETA: 7:49 - loss: 0.0102 - acc: 0.998 - ETA: 7:48 - loss: 0.0102 - acc: 0.998 - ETA: 7:46 - loss: 0.0102 - acc: 0.998 - ETA: 7:45 - loss: 0.0101 - acc: 0.998 - ETA: 7:43 - loss: 0.0101 - acc: 0.998 - ETA: 7:42 - loss: 0.0101 - acc: 0.998 - ETA: 7:40 - loss: 0.0100 - acc: 0.998 - ETA: 7:39 - loss: 0.0100 - acc: 0.998 - ETA: 7:37 - loss: 0.0100 - acc: 0.998 - ETA: 7:36 - loss: 0.0109 - acc: 0.997 - ETA: 7:34 - loss: 0.0109 - acc: 0.997 - ETA: 7:33 - loss: 0.0108 - acc: 0.998 - ETA: 7:32 - loss: 0.0108 - acc: 0.998 - ETA: 7:30 - loss: 0.0108 - acc: 0.998 - ETA: 7:29 - loss: 0.0108 - acc: 0.998 - ETA: 7:27 - loss: 0.0107 - acc: 0.998 - ETA: 7:26 - loss: 0.0107 - acc: 0.998 - ETA: 7:24 - loss: 0.0107 - acc: 0.998 - ETA: 7:23 - loss: 0.0106 - acc: 0.998 - ETA: 7:21 - loss: 0.0106 - acc: 0.998 - ETA: 7:20 - loss: 0.0106 - acc: 0.998 - ETA: 7:18 - loss: 0.0113 - acc: 0.997 - ETA: 7:17 - loss: 0.0112 - acc: 0.997 - ETA: 7:15 - loss: 0.0112 - acc: 0.997 - ETA: 7:14 - loss: 0.0112 - acc: 0.997 - ETA: 7:12 - loss: 0.0111 - acc: 0.997 - ETA: 7:11 - loss: 0.0111 - acc: 0.997 - ETA: 7:09 - loss: 0.0111 - acc: 0.997 - ETA: 7:08 - loss: 0.0111 - acc: 0.997 - ETA: 7:06 - loss: 0.0111 - acc: 0.997 - ETA: 7:05 - loss: 0.0110 - acc: 0.997 - ETA: 7:03 - loss: 0.0110 - acc: 0.997 - ETA: 7:02 - loss: 0.0110 - acc: 0.997 - ETA: 7:01 - loss: 0.0109 - acc: 0.997 - ETA: 6:59 - loss: 0.0110 - acc: 0.997 - ETA: 6:58 - loss: 0.0110 - acc: 0.997 - ETA: 6:56 - loss: 0.0109 - acc: 0.998 - ETA: 6:55 - loss: 0.0109 - acc: 0.998 - ETA: 6:53 - loss: 0.0109 - acc: 0.998 - ETA: 6:52 - loss: 0.0108 - acc: 0.998 - ETA: 6:50 - loss: 0.0108 - acc: 0.998 - ETA: 6:49 - loss: 0.0108 - acc: 0.998 - ETA: 6:47 - loss: 0.0107 - acc: 0.998 - ETA: 6:46 - loss: 0.0107 - acc: 0.998 - ETA: 6:44 - loss: 0.0107 - acc: 0.998 - ETA: 6:43 - loss: 0.0107 - acc: 0.998 - ETA: 6:41 - loss: 0.0106 - acc: 0.998 - ETA: 6:40 - loss: 0.0106 - acc: 0.998 - ETA: 6:38 - loss: 0.0106 - acc: 0.998 - ETA: 6:37 - loss: 0.0106 - acc: 0.998 - ETA: 6:35 - loss: 0.0105 - acc: 0.998 - ETA: 6:34 - loss: 0.0105 - acc: 0.998 - ETA: 6:32 - loss: 0.0105 - acc: 0.998 - ETA: 6:31 - loss: 0.0104 - acc: 0.998 - ETA: 6:29 - loss: 0.0104 - acc: 0.998 - ETA: 6:28 - loss: 0.0104 - acc: 0.998 - ETA: 6:27 - loss: 0.0104 - acc: 0.998 - ETA: 6:25 - loss: 0.0103 - acc: 0.998 - ETA: 6:24 - loss: 0.0103 - acc: 0.998 - ETA: 6:22 - loss: 0.0103 - acc: 0.998 - ETA: 6:21 - loss: 0.0103 - acc: 0.998 - ETA: 6:19 - loss: 0.0102 - acc: 0.998 - ETA: 6:18 - loss: 0.0102 - acc: 0.998 - ETA: 6:16 - loss: 0.0102 - acc: 0.998 - ETA: 6:15 - loss: 0.0102 - acc: 0.998 - ETA: 6:13 - loss: 0.0101 - acc: 0.998 - ETA: 6:12 - loss: 0.0101 - acc: 0.998 - ETA: 6:10 - loss: 0.0101 - acc: 0.998 - ETA: 6:09 - loss: 0.0101 - acc: 0.998 - ETA: 6:07 - loss: 0.0100 - acc: 0.998 - ETA: 6:06 - loss: 0.0100 - acc: 0.998 - ETA: 6:04 - loss: 0.0100 - acc: 0.998 - ETA: 6:03 - loss: 0.0100 - acc: 0.998 - ETA: 6:01 - loss: 0.0099 - acc: 0.998 - ETA: 6:00 - loss: 0.0099 - acc: 0.998 - ETA: 5:58 - loss: 0.0099 - acc: 0.998 - ETA: 5:57 - loss: 0.0099 - acc: 0.998 - ETA: 5:55 - loss: 0.0098 - acc: 0.998 - ETA: 5:54 - loss: 0.0098 - acc: 0.998 - ETA: 5:53 - loss: 0.0098 - acc: 0.998 - ETA: 5:51 - loss: 0.0098 - acc: 0.998 - ETA: 5:50 - loss: 0.0097 - acc: 0.998 - ETA: 5:48 - loss: 0.0105 - acc: 0.998 - ETA: 5:47 - loss: 0.0105 - acc: 0.998 - ETA: 5:45 - loss: 0.0105 - acc: 0.998 - ETA: 5:44 - loss: 0.0105 - acc: 0.998 - ETA: 5:42 - loss: 0.0116 - acc: 0.998 - ETA: 5:41 - loss: 0.0116 - acc: 0.998 - ETA: 5:39 - loss: 0.0115 - acc: 0.998 - ETA: 5:38 - loss: 0.0129 - acc: 0.997 - ETA: 5:36 - loss: 0.0129 - acc: 0.997 - ETA: 5:35 - loss: 0.0129 - acc: 0.997 - ETA: 5:33 - loss: 0.0128 - acc: 0.997 - ETA: 5:32 - loss: 0.0128 - acc: 0.997 - ETA: 5:30 - loss: 0.0128 - acc: 0.997 - ETA: 5:29 - loss: 0.0128 - acc: 0.997 - ETA: 5:27 - loss: 0.0127 - acc: 0.997 - ETA: 5:26 - loss: 0.0127 - acc: 0.997 - ETA: 5:24 - loss: 0.0127 - acc: 0.997 - ETA: 5:23 - loss: 0.0127 - acc: 0.997 - ETA: 5:21 - loss: 0.0127 - acc: 0.997 - ETA: 5:20 - loss: 0.0126 - acc: 0.997 - ETA: 5:19 - loss: 0.0126 - acc: 0.997 - ETA: 5:17 - loss: 0.0126 - acc: 0.997 - ETA: 5:16 - loss: 0.0126 - acc: 0.997 - ETA: 5:14 - loss: 0.0139 - acc: 0.997 - ETA: 5:13 - loss: 0.0139 - acc: 0.997 - ETA: 5:11 - loss: 0.0139 - acc: 0.997 - ETA: 5:10 - loss: 0.0139 - acc: 0.997 - ETA: 5:08 - loss: 0.0145 - acc: 0.997 - ETA: 5:07 - loss: 0.0144 - acc: 0.997 - ETA: 5:05 - loss: 0.0145 - acc: 0.997 - ETA: 5:04 - loss: 0.0146 - acc: 0.997 - ETA: 5:02 - loss: 0.0146 - acc: 0.997 - ETA: 5:01 - loss: 0.0147 - acc: 0.997 - ETA: 4:59 - loss: 0.0149 - acc: 0.997 - ETA: 4:58 - loss: 0.0148 - acc: 0.997 - ETA: 4:56 - loss: 0.0148 - acc: 0.997 - ETA: 4:55 - loss: 0.0148 - acc: 0.997 - ETA: 4:53 - loss: 0.0148 - acc: 0.997 - ETA: 4:52 - loss: 0.0148 - acc: 0.997 - ETA: 4:50 - loss: 0.0148 - acc: 0.997 - ETA: 4:49 - loss: 0.0147 - acc: 0.997 - ETA: 4:47 - loss: 0.0147 - acc: 0.997 - ETA: 4:46 - loss: 0.0147 - acc: 0.997 - ETA: 4:45 - loss: 0.0146 - acc: 0.997 - ETA: 4:43 - loss: 0.0146 - acc: 0.9972"
     ]
    },
    {
     "name": "stdout",
     "output_type": "stream",
     "text": [
      "11998/11998 [==============================] - ETA: 4:42 - loss: 0.0146 - acc: 0.997 - ETA: 4:40 - loss: 0.0146 - acc: 0.997 - ETA: 4:39 - loss: 0.0145 - acc: 0.997 - ETA: 4:37 - loss: 0.0145 - acc: 0.997 - ETA: 4:36 - loss: 0.0145 - acc: 0.997 - ETA: 4:34 - loss: 0.0145 - acc: 0.997 - ETA: 4:33 - loss: 0.0144 - acc: 0.997 - ETA: 4:31 - loss: 0.0144 - acc: 0.997 - ETA: 4:30 - loss: 0.0144 - acc: 0.997 - ETA: 4:28 - loss: 0.0144 - acc: 0.997 - ETA: 4:27 - loss: 0.0143 - acc: 0.997 - ETA: 4:25 - loss: 0.0143 - acc: 0.997 - ETA: 4:24 - loss: 0.0143 - acc: 0.997 - ETA: 4:22 - loss: 0.0142 - acc: 0.997 - ETA: 4:21 - loss: 0.0142 - acc: 0.997 - ETA: 4:19 - loss: 0.0142 - acc: 0.997 - ETA: 4:18 - loss: 0.0142 - acc: 0.997 - ETA: 4:16 - loss: 0.0141 - acc: 0.997 - ETA: 4:15 - loss: 0.0141 - acc: 0.997 - ETA: 4:14 - loss: 0.0141 - acc: 0.997 - ETA: 4:12 - loss: 0.0142 - acc: 0.997 - ETA: 4:11 - loss: 0.0142 - acc: 0.997 - ETA: 4:09 - loss: 0.0142 - acc: 0.997 - ETA: 4:08 - loss: 0.0153 - acc: 0.997 - ETA: 4:06 - loss: 0.0152 - acc: 0.997 - ETA: 4:05 - loss: 0.0152 - acc: 0.997 - ETA: 4:03 - loss: 0.0152 - acc: 0.997 - ETA: 4:02 - loss: 0.0151 - acc: 0.997 - ETA: 4:00 - loss: 0.0151 - acc: 0.997 - ETA: 3:59 - loss: 0.0151 - acc: 0.997 - ETA: 3:57 - loss: 0.0150 - acc: 0.997 - ETA: 3:56 - loss: 0.0150 - acc: 0.997 - ETA: 3:54 - loss: 0.0150 - acc: 0.997 - ETA: 3:53 - loss: 0.0150 - acc: 0.997 - ETA: 3:51 - loss: 0.0150 - acc: 0.997 - ETA: 3:50 - loss: 0.0149 - acc: 0.997 - ETA: 3:48 - loss: 0.0149 - acc: 0.997 - ETA: 3:47 - loss: 0.0149 - acc: 0.997 - ETA: 3:45 - loss: 0.0148 - acc: 0.997 - ETA: 3:44 - loss: 0.0148 - acc: 0.997 - ETA: 3:42 - loss: 0.0148 - acc: 0.997 - ETA: 3:41 - loss: 0.0148 - acc: 0.997 - ETA: 3:40 - loss: 0.0148 - acc: 0.997 - ETA: 3:38 - loss: 0.0147 - acc: 0.997 - ETA: 3:37 - loss: 0.0147 - acc: 0.997 - ETA: 3:35 - loss: 0.0147 - acc: 0.997 - ETA: 3:34 - loss: 0.0146 - acc: 0.997 - ETA: 3:32 - loss: 0.0146 - acc: 0.997 - ETA: 3:31 - loss: 0.0146 - acc: 0.997 - ETA: 3:29 - loss: 0.0146 - acc: 0.997 - ETA: 3:28 - loss: 0.0145 - acc: 0.997 - ETA: 3:26 - loss: 0.0145 - acc: 0.997 - ETA: 3:25 - loss: 0.0145 - acc: 0.997 - ETA: 3:23 - loss: 0.0145 - acc: 0.997 - ETA: 3:22 - loss: 0.0144 - acc: 0.997 - ETA: 3:20 - loss: 0.0144 - acc: 0.997 - ETA: 3:19 - loss: 0.0149 - acc: 0.997 - ETA: 3:17 - loss: 0.0149 - acc: 0.997 - ETA: 3:16 - loss: 0.0149 - acc: 0.997 - ETA: 3:14 - loss: 0.0149 - acc: 0.997 - ETA: 3:13 - loss: 0.0148 - acc: 0.997 - ETA: 3:11 - loss: 0.0148 - acc: 0.997 - ETA: 3:10 - loss: 0.0148 - acc: 0.997 - ETA: 3:09 - loss: 0.0147 - acc: 0.997 - ETA: 3:07 - loss: 0.0147 - acc: 0.997 - ETA: 3:06 - loss: 0.0147 - acc: 0.997 - ETA: 3:04 - loss: 0.0147 - acc: 0.997 - ETA: 3:03 - loss: 0.0147 - acc: 0.997 - ETA: 3:01 - loss: 0.0146 - acc: 0.997 - ETA: 3:00 - loss: 0.0146 - acc: 0.997 - ETA: 2:58 - loss: 0.0146 - acc: 0.997 - ETA: 2:57 - loss: 0.0146 - acc: 0.997 - ETA: 2:55 - loss: 0.0146 - acc: 0.997 - ETA: 2:54 - loss: 0.0146 - acc: 0.997 - ETA: 2:52 - loss: 0.0145 - acc: 0.997 - ETA: 2:51 - loss: 0.0146 - acc: 0.997 - ETA: 2:49 - loss: 0.0146 - acc: 0.997 - ETA: 2:48 - loss: 0.0146 - acc: 0.997 - ETA: 2:46 - loss: 0.0146 - acc: 0.997 - ETA: 2:45 - loss: 0.0145 - acc: 0.997 - ETA: 2:43 - loss: 0.0145 - acc: 0.997 - ETA: 2:42 - loss: 0.0145 - acc: 0.997 - ETA: 2:40 - loss: 0.0145 - acc: 0.997 - ETA: 2:39 - loss: 0.0144 - acc: 0.997 - ETA: 2:37 - loss: 0.0144 - acc: 0.997 - ETA: 2:36 - loss: 0.0144 - acc: 0.997 - ETA: 2:35 - loss: 0.0144 - acc: 0.997 - ETA: 2:33 - loss: 0.0143 - acc: 0.997 - ETA: 2:32 - loss: 0.0143 - acc: 0.997 - ETA: 2:30 - loss: 0.0143 - acc: 0.997 - ETA: 2:29 - loss: 0.0142 - acc: 0.997 - ETA: 2:27 - loss: 0.0142 - acc: 0.997 - ETA: 2:26 - loss: 0.0142 - acc: 0.997 - ETA: 2:24 - loss: 0.0142 - acc: 0.997 - ETA: 2:23 - loss: 0.0141 - acc: 0.997 - ETA: 2:21 - loss: 0.0141 - acc: 0.997 - ETA: 2:20 - loss: 0.0141 - acc: 0.997 - ETA: 2:18 - loss: 0.0141 - acc: 0.997 - ETA: 2:17 - loss: 0.0140 - acc: 0.997 - ETA: 2:15 - loss: 0.0140 - acc: 0.997 - ETA: 2:14 - loss: 0.0140 - acc: 0.997 - ETA: 2:12 - loss: 0.0140 - acc: 0.997 - ETA: 2:11 - loss: 0.0140 - acc: 0.997 - ETA: 2:09 - loss: 0.0139 - acc: 0.997 - ETA: 2:08 - loss: 0.0139 - acc: 0.997 - ETA: 2:06 - loss: 0.0139 - acc: 0.997 - ETA: 2:05 - loss: 0.0139 - acc: 0.997 - ETA: 2:03 - loss: 0.0138 - acc: 0.997 - ETA: 2:02 - loss: 0.0138 - acc: 0.997 - ETA: 2:01 - loss: 0.0142 - acc: 0.997 - ETA: 1:59 - loss: 0.0142 - acc: 0.997 - ETA: 1:58 - loss: 0.0142 - acc: 0.997 - ETA: 1:56 - loss: 0.0142 - acc: 0.997 - ETA: 1:55 - loss: 0.0141 - acc: 0.997 - ETA: 1:53 - loss: 0.0141 - acc: 0.997 - ETA: 1:52 - loss: 0.0146 - acc: 0.997 - ETA: 1:50 - loss: 0.0146 - acc: 0.997 - ETA: 1:49 - loss: 0.0146 - acc: 0.997 - ETA: 1:47 - loss: 0.0146 - acc: 0.997 - ETA: 1:46 - loss: 0.0146 - acc: 0.997 - ETA: 1:44 - loss: 0.0146 - acc: 0.997 - ETA: 1:43 - loss: 0.0145 - acc: 0.997 - ETA: 1:41 - loss: 0.0145 - acc: 0.997 - ETA: 1:40 - loss: 0.0145 - acc: 0.997 - ETA: 1:38 - loss: 0.0145 - acc: 0.997 - ETA: 1:37 - loss: 0.0144 - acc: 0.997 - ETA: 1:35 - loss: 0.0144 - acc: 0.997 - ETA: 1:34 - loss: 0.0144 - acc: 0.997 - ETA: 1:32 - loss: 0.0144 - acc: 0.997 - ETA: 1:31 - loss: 0.0144 - acc: 0.997 - ETA: 1:29 - loss: 0.0145 - acc: 0.997 - ETA: 1:28 - loss: 0.0145 - acc: 0.997 - ETA: 1:27 - loss: 0.0145 - acc: 0.997 - ETA: 1:25 - loss: 0.0145 - acc: 0.997 - ETA: 1:24 - loss: 0.0145 - acc: 0.997 - ETA: 1:22 - loss: 0.0145 - acc: 0.997 - ETA: 1:21 - loss: 0.0144 - acc: 0.997 - ETA: 1:19 - loss: 0.0144 - acc: 0.997 - ETA: 1:18 - loss: 0.0144 - acc: 0.997 - ETA: 1:16 - loss: 0.0145 - acc: 0.997 - ETA: 1:15 - loss: 0.0145 - acc: 0.997 - ETA: 1:13 - loss: 0.0145 - acc: 0.997 - ETA: 1:12 - loss: 0.0144 - acc: 0.997 - ETA: 1:10 - loss: 0.0144 - acc: 0.997 - ETA: 1:09 - loss: 0.0144 - acc: 0.997 - ETA: 1:07 - loss: 0.0144 - acc: 0.997 - ETA: 1:06 - loss: 0.0144 - acc: 0.997 - ETA: 1:04 - loss: 0.0144 - acc: 0.997 - ETA: 1:03 - loss: 0.0144 - acc: 0.997 - ETA: 1:01 - loss: 0.0144 - acc: 0.997 - ETA: 1:00 - loss: 0.0144 - acc: 0.997 - ETA: 58s - loss: 0.0143 - acc: 0.997 - ETA: 57s - loss: 0.0143 - acc: 0.99 - ETA: 56s - loss: 0.0143 - acc: 0.99 - ETA: 54s - loss: 0.0143 - acc: 0.99 - ETA: 53s - loss: 0.0143 - acc: 0.99 - ETA: 51s - loss: 0.0143 - acc: 0.99 - ETA: 50s - loss: 0.0142 - acc: 0.99 - ETA: 48s - loss: 0.0142 - acc: 0.99 - ETA: 47s - loss: 0.0145 - acc: 0.99 - ETA: 45s - loss: 0.0144 - acc: 0.99 - ETA: 44s - loss: 0.0145 - acc: 0.99 - ETA: 42s - loss: 0.0145 - acc: 0.99 - ETA: 41s - loss: 0.0145 - acc: 0.99 - ETA: 39s - loss: 0.0144 - acc: 0.99 - ETA: 38s - loss: 0.0144 - acc: 0.99 - ETA: 36s - loss: 0.0144 - acc: 0.99 - ETA: 35s - loss: 0.0144 - acc: 0.99 - ETA: 33s - loss: 0.0143 - acc: 0.99 - ETA: 32s - loss: 0.0143 - acc: 0.99 - ETA: 30s - loss: 0.0143 - acc: 0.99 - ETA: 29s - loss: 0.0143 - acc: 0.99 - ETA: 27s - loss: 0.0143 - acc: 0.99 - ETA: 26s - loss: 0.0142 - acc: 0.99 - ETA: 24s - loss: 0.0146 - acc: 0.99 - ETA: 23s - loss: 0.0145 - acc: 0.99 - ETA: 22s - loss: 0.0145 - acc: 0.99 - ETA: 20s - loss: 0.0145 - acc: 0.99 - ETA: 19s - loss: 0.0145 - acc: 0.99 - ETA: 17s - loss: 0.0144 - acc: 0.99 - ETA: 16s - loss: 0.0144 - acc: 0.99 - ETA: 14s - loss: 0.0144 - acc: 0.99 - ETA: 13s - loss: 0.0144 - acc: 0.99 - ETA: 11s - loss: 0.0143 - acc: 0.99 - ETA: 10s - loss: 0.0143 - acc: 0.99 - ETA: 8s - loss: 0.0143 - acc: 0.9971 - ETA: 7s - loss: 0.0143 - acc: 0.997 - ETA: 5s - loss: 0.0143 - acc: 0.997 - ETA: 4s - loss: 0.0143 - acc: 0.997 - ETA: 2s - loss: 0.0142 - acc: 0.997 - ETA: 1s - loss: 0.0142 - acc: 0.997 - 887s 74ms/sample - loss: 0.0142 - acc: 0.9971\n",
      "Epoch 3/3\n"
     ]
    },
    {
     "name": "stdout",
     "output_type": "stream",
     "text": [
      " 4060/11998 [=========>....................] - ETA: 14:42 - loss: 0.0017 - acc: 1.00 - ETA: 14:39 - loss: 0.0026 - acc: 1.00 - ETA: 14:40 - loss: 0.0026 - acc: 1.00 - ETA: 14:38 - loss: 0.0036 - acc: 1.00 - ETA: 14:37 - loss: 0.0037 - acc: 1.00 - ETA: 14:36 - loss: 0.0032 - acc: 1.00 - ETA: 14:34 - loss: 0.0029 - acc: 1.00 - ETA: 14:33 - loss: 0.0026 - acc: 1.00 - ETA: 14:32 - loss: 0.0025 - acc: 1.00 - ETA: 14:30 - loss: 0.0023 - acc: 1.00 - ETA: 14:29 - loss: 0.0022 - acc: 1.00 - ETA: 14:27 - loss: 0.0022 - acc: 1.00 - ETA: 14:26 - loss: 0.0021 - acc: 1.00 - ETA: 14:25 - loss: 0.0022 - acc: 1.00 - ETA: 14:23 - loss: 0.0022 - acc: 1.00 - ETA: 14:22 - loss: 0.0022 - acc: 1.00 - ETA: 14:20 - loss: 0.0024 - acc: 1.00 - ETA: 14:19 - loss: 0.0023 - acc: 1.00 - ETA: 14:17 - loss: 0.0023 - acc: 1.00 - ETA: 14:16 - loss: 0.0023 - acc: 1.00 - ETA: 14:14 - loss: 0.0023 - acc: 1.00 - ETA: 14:13 - loss: 0.0023 - acc: 1.00 - ETA: 14:11 - loss: 0.0022 - acc: 1.00 - ETA: 14:10 - loss: 0.0022 - acc: 1.00 - ETA: 14:08 - loss: 0.0021 - acc: 1.00 - ETA: 14:07 - loss: 0.0021 - acc: 1.00 - ETA: 14:05 - loss: 0.0020 - acc: 1.00 - ETA: 14:04 - loss: 0.0020 - acc: 1.00 - ETA: 14:03 - loss: 0.0020 - acc: 1.00 - ETA: 14:01 - loss: 0.0019 - acc: 1.00 - ETA: 14:00 - loss: 0.0019 - acc: 1.00 - ETA: 13:58 - loss: 0.0018 - acc: 1.00 - ETA: 13:57 - loss: 0.0018 - acc: 1.00 - ETA: 13:55 - loss: 0.0018 - acc: 1.00 - ETA: 13:54 - loss: 0.0017 - acc: 1.00 - ETA: 13:52 - loss: 0.0017 - acc: 1.00 - ETA: 13:51 - loss: 0.0017 - acc: 1.00 - ETA: 13:49 - loss: 0.0016 - acc: 1.00 - ETA: 13:48 - loss: 0.0016 - acc: 1.00 - ETA: 13:46 - loss: 0.0016 - acc: 1.00 - ETA: 13:45 - loss: 0.0015 - acc: 1.00 - ETA: 13:43 - loss: 0.0015 - acc: 1.00 - ETA: 13:42 - loss: 0.0015 - acc: 1.00 - ETA: 13:41 - loss: 0.0015 - acc: 1.00 - ETA: 13:39 - loss: 0.0015 - acc: 1.00 - ETA: 13:38 - loss: 0.0015 - acc: 1.00 - ETA: 13:36 - loss: 0.0014 - acc: 1.00 - ETA: 13:35 - loss: 0.0014 - acc: 1.00 - ETA: 13:33 - loss: 0.0014 - acc: 1.00 - ETA: 13:32 - loss: 0.0014 - acc: 1.00 - ETA: 13:30 - loss: 0.0014 - acc: 1.00 - ETA: 13:29 - loss: 0.0014 - acc: 1.00 - ETA: 13:27 - loss: 0.0013 - acc: 1.00 - ETA: 13:26 - loss: 0.0013 - acc: 1.00 - ETA: 13:24 - loss: 0.0013 - acc: 1.00 - ETA: 13:23 - loss: 0.0013 - acc: 1.00 - ETA: 13:21 - loss: 0.0013 - acc: 1.00 - ETA: 13:20 - loss: 0.0013 - acc: 1.00 - ETA: 13:18 - loss: 0.0013 - acc: 1.00 - ETA: 13:17 - loss: 0.0013 - acc: 1.00 - ETA: 13:16 - loss: 0.0012 - acc: 1.00 - ETA: 13:14 - loss: 0.0012 - acc: 1.00 - ETA: 13:13 - loss: 0.0012 - acc: 1.00 - ETA: 13:11 - loss: 0.0012 - acc: 1.00 - ETA: 13:10 - loss: 0.0012 - acc: 1.00 - ETA: 13:08 - loss: 0.0012 - acc: 1.00 - ETA: 13:07 - loss: 0.0012 - acc: 1.00 - ETA: 13:05 - loss: 0.0012 - acc: 1.00 - ETA: 13:04 - loss: 0.0011 - acc: 1.00 - ETA: 13:02 - loss: 0.0011 - acc: 1.00 - ETA: 13:01 - loss: 0.0011 - acc: 1.00 - ETA: 12:59 - loss: 0.0011 - acc: 1.00 - ETA: 12:58 - loss: 0.0011 - acc: 1.00 - ETA: 12:56 - loss: 0.0011 - acc: 1.00 - ETA: 12:55 - loss: 0.0011 - acc: 1.00 - ETA: 12:53 - loss: 0.0011 - acc: 1.00 - ETA: 12:52 - loss: 0.0011 - acc: 1.00 - ETA: 12:50 - loss: 0.0011 - acc: 1.00 - ETA: 12:49 - loss: 0.0011 - acc: 1.00 - ETA: 12:47 - loss: 0.0011 - acc: 1.00 - ETA: 12:46 - loss: 0.0011 - acc: 1.00 - ETA: 12:44 - loss: 0.0010 - acc: 1.00 - ETA: 12:43 - loss: 0.0010 - acc: 1.00 - ETA: 12:42 - loss: 0.0010 - acc: 1.00 - ETA: 12:40 - loss: 0.0041 - acc: 0.99 - ETA: 12:39 - loss: 0.0041 - acc: 0.99 - ETA: 12:37 - loss: 0.0041 - acc: 0.99 - ETA: 12:36 - loss: 0.0040 - acc: 0.99 - ETA: 12:34 - loss: 0.0040 - acc: 0.99 - ETA: 12:33 - loss: 0.0039 - acc: 0.99 - ETA: 12:31 - loss: 0.0039 - acc: 0.99 - ETA: 12:30 - loss: 0.0039 - acc: 0.99 - ETA: 12:28 - loss: 0.0038 - acc: 0.99 - ETA: 12:27 - loss: 0.0038 - acc: 0.99 - ETA: 12:25 - loss: 0.0038 - acc: 0.99 - ETA: 12:24 - loss: 0.0037 - acc: 0.99 - ETA: 12:22 - loss: 0.0037 - acc: 0.99 - ETA: 12:21 - loss: 0.0037 - acc: 0.99 - ETA: 12:19 - loss: 0.0036 - acc: 0.99 - ETA: 12:18 - loss: 0.0036 - acc: 0.99 - ETA: 12:17 - loss: 0.0036 - acc: 0.99 - ETA: 12:15 - loss: 0.0036 - acc: 0.99 - ETA: 12:14 - loss: 0.0036 - acc: 0.99 - ETA: 12:12 - loss: 0.0035 - acc: 0.99 - ETA: 12:11 - loss: 0.0035 - acc: 0.99 - ETA: 12:09 - loss: 0.0035 - acc: 0.99 - ETA: 12:08 - loss: 0.0035 - acc: 0.99 - ETA: 12:06 - loss: 0.0035 - acc: 0.99 - ETA: 12:05 - loss: 0.0034 - acc: 0.99 - ETA: 12:03 - loss: 0.0034 - acc: 0.99 - ETA: 12:02 - loss: 0.0034 - acc: 0.99 - ETA: 12:00 - loss: 0.0034 - acc: 0.99 - ETA: 11:59 - loss: 0.0033 - acc: 0.99 - ETA: 11:57 - loss: 0.0033 - acc: 0.99 - ETA: 11:56 - loss: 0.0034 - acc: 0.99 - ETA: 11:54 - loss: 0.0034 - acc: 0.99 - ETA: 11:53 - loss: 0.0034 - acc: 0.99 - ETA: 11:51 - loss: 0.0033 - acc: 0.99 - ETA: 11:50 - loss: 0.0051 - acc: 0.99 - ETA: 11:48 - loss: 0.0051 - acc: 0.99 - ETA: 11:47 - loss: 0.0051 - acc: 0.99 - ETA: 11:46 - loss: 0.0050 - acc: 0.99 - ETA: 11:44 - loss: 0.0050 - acc: 0.99 - ETA: 11:43 - loss: 0.0049 - acc: 0.99 - ETA: 11:41 - loss: 0.0049 - acc: 0.99 - ETA: 11:40 - loss: 0.0049 - acc: 0.99 - ETA: 11:38 - loss: 0.0049 - acc: 0.99 - ETA: 11:37 - loss: 0.0048 - acc: 0.99 - ETA: 11:35 - loss: 0.0048 - acc: 0.99 - ETA: 1:11:41 - loss: 0.0048 - acc: 0.99 - ETA: 1:11:02 - loss: 0.0048 - acc: 0.99 - ETA: 1:10:23 - loss: 0.0047 - acc: 0.99 - ETA: 1:09:45 - loss: 0.0047 - acc: 0.99 - ETA: 1:09:07 - loss: 0.0047 - acc: 0.99 - ETA: 1:08:29 - loss: 0.0046 - acc: 0.99 - ETA: 1:07:52 - loss: 0.0046 - acc: 0.99 - ETA: 1:07:16 - loss: 0.0046 - acc: 0.99 - ETA: 1:06:40 - loss: 0.0046 - acc: 0.99 - ETA: 1:06:05 - loss: 0.0045 - acc: 0.99 - ETA: 1:05:30 - loss: 0.0045 - acc: 0.99 - ETA: 1:04:56 - loss: 0.0045 - acc: 0.99 - ETA: 1:04:22 - loss: 0.0045 - acc: 0.99 - ETA: 1:03:48 - loss: 0.0044 - acc: 0.99 - ETA: 1:03:16 - loss: 0.0044 - acc: 0.99 - ETA: 1:02:43 - loss: 0.0044 - acc: 0.99 - ETA: 1:02:11 - loss: 0.0044 - acc: 0.99 - ETA: 1:01:39 - loss: 0.0043 - acc: 0.99 - ETA: 1:01:08 - loss: 0.0043 - acc: 0.99 - ETA: 1:00:37 - loss: 0.0043 - acc: 0.99 - ETA: 1:00:07 - loss: 0.0043 - acc: 0.99 - ETA: 59:37 - loss: 0.0043 - acc: 0.9993 - ETA: 59:07 - loss: 0.0043 - acc: 0.99 - ETA: 58:38 - loss: 0.0042 - acc: 0.99 - ETA: 58:09 - loss: 0.0048 - acc: 0.99 - ETA: 57:41 - loss: 0.0048 - acc: 0.99 - ETA: 57:12 - loss: 0.0048 - acc: 0.99 - ETA: 56:45 - loss: 0.0047 - acc: 0.99 - ETA: 56:17 - loss: 0.0047 - acc: 0.99 - ETA: 55:50 - loss: 0.0047 - acc: 0.99 - ETA: 55:23 - loss: 0.0047 - acc: 0.99 - ETA: 54:57 - loss: 0.0047 - acc: 0.99 - ETA: 54:31 - loss: 0.0047 - acc: 0.99 - ETA: 54:05 - loss: 0.0046 - acc: 0.99 - ETA: 53:39 - loss: 0.0046 - acc: 0.99 - ETA: 53:14 - loss: 0.0046 - acc: 0.99 - ETA: 52:49 - loss: 0.0046 - acc: 0.99 - ETA: 52:24 - loss: 0.0046 - acc: 0.99 - ETA: 52:00 - loss: 0.0045 - acc: 0.99 - ETA: 51:36 - loss: 0.0045 - acc: 0.99 - ETA: 51:12 - loss: 0.0059 - acc: 0.99 - ETA: 50:49 - loss: 0.0058 - acc: 0.99 - ETA: 50:25 - loss: 0.0058 - acc: 0.99 - ETA: 50:02 - loss: 0.0058 - acc: 0.99 - ETA: 49:40 - loss: 0.0058 - acc: 0.99 - ETA: 49:17 - loss: 0.0057 - acc: 0.99 - ETA: 48:55 - loss: 0.0057 - acc: 0.99 - ETA: 48:33 - loss: 0.0057 - acc: 0.99 - ETA: 48:11 - loss: 0.0056 - acc: 0.99 - ETA: 47:50 - loss: 0.0056 - acc: 0.99 - ETA: 47:28 - loss: 0.0056 - acc: 0.99 - ETA: 47:07 - loss: 0.0056 - acc: 0.99 - ETA: 46:47 - loss: 0.0055 - acc: 0.99 - ETA: 46:26 - loss: 0.0055 - acc: 0.99 - ETA: 46:06 - loss: 0.0055 - acc: 0.99 - ETA: 45:45 - loss: 0.0055 - acc: 0.99 - ETA: 45:25 - loss: 0.0055 - acc: 0.99 - ETA: 45:06 - loss: 0.0054 - acc: 0.99 - ETA: 44:46 - loss: 0.0054 - acc: 0.99 - ETA: 44:27 - loss: 0.0054 - acc: 0.99 - ETA: 44:08 - loss: 0.0053 - acc: 0.99 - ETA: 43:49 - loss: 0.0054 - acc: 0.99 - ETA: 43:30 - loss: 0.0054 - acc: 0.99 - ETA: 43:11 - loss: 0.0054 - acc: 0.99 - ETA: 42:53 - loss: 0.0053 - acc: 0.99 - ETA: 42:35 - loss: 0.0053 - acc: 0.99 - ETA: 42:17 - loss: 0.0053 - acc: 0.99 - ETA: 41:59 - loss: 0.0053 - acc: 0.99 - ETA: 41:41 - loss: 0.0052 - acc: 0.99 - ETA: 41:24 - loss: 0.0052 - acc: 0.99 - ETA: 41:06 - loss: 0.0052 - acc: 0.99 - ETA: 40:49 - loss: 0.0052 - acc: 0.99 - ETA: 40:33 - loss: 0.0052 - acc: 0.99 - ETA: 40:16 - loss: 0.0051 - acc: 0.9990"
     ]
    },
    {
     "name": "stdout",
     "output_type": "stream",
     "text": [
      " 8140/11998 [===================>..........] - ETA: 40:00 - loss: 0.0051 - acc: 0.99 - ETA: 39:43 - loss: 0.0051 - acc: 0.99 - ETA: 39:27 - loss: 0.0051 - acc: 0.99 - ETA: 39:11 - loss: 0.0051 - acc: 0.99 - ETA: 38:54 - loss: 0.0050 - acc: 0.99 - ETA: 38:38 - loss: 0.0050 - acc: 0.99 - ETA: 38:23 - loss: 0.0050 - acc: 0.99 - ETA: 38:07 - loss: 0.0050 - acc: 0.99 - ETA: 37:52 - loss: 0.0049 - acc: 0.99 - ETA: 37:36 - loss: 0.0049 - acc: 0.99 - ETA: 37:21 - loss: 0.0049 - acc: 0.99 - ETA: 37:06 - loss: 0.0049 - acc: 0.99 - ETA: 36:51 - loss: 0.0049 - acc: 0.99 - ETA: 36:36 - loss: 0.0049 - acc: 0.99 - ETA: 36:21 - loss: 0.0049 - acc: 0.99 - ETA: 36:07 - loss: 0.0048 - acc: 0.99 - ETA: 35:52 - loss: 0.0048 - acc: 0.99 - ETA: 35:38 - loss: 0.0048 - acc: 0.99 - ETA: 35:24 - loss: 0.0048 - acc: 0.99 - ETA: 35:10 - loss: 0.0048 - acc: 0.99 - ETA: 34:56 - loss: 0.0048 - acc: 0.99 - ETA: 34:42 - loss: 0.0048 - acc: 0.99 - ETA: 34:28 - loss: 0.0048 - acc: 0.99 - ETA: 34:15 - loss: 0.0048 - acc: 0.99 - ETA: 34:01 - loss: 0.0047 - acc: 0.99 - ETA: 33:48 - loss: 0.0047 - acc: 0.99 - ETA: 33:35 - loss: 0.0047 - acc: 0.99 - ETA: 33:21 - loss: 0.0047 - acc: 0.99 - ETA: 33:08 - loss: 0.0047 - acc: 0.99 - ETA: 32:56 - loss: 0.0047 - acc: 0.99 - ETA: 32:43 - loss: 0.0046 - acc: 0.99 - ETA: 32:30 - loss: 0.0046 - acc: 0.99 - ETA: 32:17 - loss: 0.0046 - acc: 0.99 - ETA: 32:05 - loss: 0.0046 - acc: 0.99 - ETA: 31:52 - loss: 0.0046 - acc: 0.99 - ETA: 31:40 - loss: 0.0046 - acc: 0.99 - ETA: 31:28 - loss: 0.0045 - acc: 0.99 - ETA: 31:16 - loss: 0.0045 - acc: 0.99 - ETA: 31:04 - loss: 0.0045 - acc: 0.99 - ETA: 30:52 - loss: 0.0045 - acc: 0.99 - ETA: 30:40 - loss: 0.0045 - acc: 0.99 - ETA: 30:28 - loss: 0.0044 - acc: 0.99 - ETA: 30:17 - loss: 0.0044 - acc: 0.99 - ETA: 30:05 - loss: 0.0044 - acc: 0.99 - ETA: 29:54 - loss: 0.0044 - acc: 0.99 - ETA: 29:42 - loss: 0.0044 - acc: 0.99 - ETA: 29:31 - loss: 0.0044 - acc: 0.99 - ETA: 29:20 - loss: 0.0043 - acc: 0.99 - ETA: 29:09 - loss: 0.0043 - acc: 0.99 - ETA: 28:58 - loss: 0.0043 - acc: 0.99 - ETA: 28:47 - loss: 0.0043 - acc: 0.99 - ETA: 28:36 - loss: 0.0043 - acc: 0.99 - ETA: 28:25 - loss: 0.0043 - acc: 0.99 - ETA: 28:14 - loss: 0.0043 - acc: 0.99 - ETA: 28:04 - loss: 0.0042 - acc: 0.99 - ETA: 27:53 - loss: 0.0042 - acc: 0.99 - ETA: 27:43 - loss: 0.0042 - acc: 0.99 - ETA: 27:32 - loss: 0.0042 - acc: 0.99 - ETA: 27:22 - loss: 0.0042 - acc: 0.99 - ETA: 27:12 - loss: 0.0042 - acc: 0.99 - ETA: 27:01 - loss: 0.0041 - acc: 0.99 - ETA: 26:51 - loss: 0.0041 - acc: 0.99 - ETA: 26:41 - loss: 0.0041 - acc: 0.99 - ETA: 26:31 - loss: 0.0041 - acc: 0.99 - ETA: 26:21 - loss: 0.0041 - acc: 0.99 - ETA: 26:12 - loss: 0.0041 - acc: 0.99 - ETA: 26:02 - loss: 0.0041 - acc: 0.99 - ETA: 25:52 - loss: 0.0040 - acc: 0.99 - ETA: 25:43 - loss: 0.0040 - acc: 0.99 - ETA: 25:33 - loss: 0.0040 - acc: 0.99 - ETA: 25:24 - loss: 0.0040 - acc: 0.99 - ETA: 25:14 - loss: 0.0040 - acc: 0.99 - ETA: 25:05 - loss: 0.0040 - acc: 0.99 - ETA: 24:57 - loss: 0.0040 - acc: 0.99 - ETA: 24:47 - loss: 0.0039 - acc: 0.99 - ETA: 24:38 - loss: 0.0039 - acc: 0.99 - ETA: 24:29 - loss: 0.0039 - acc: 0.99 - ETA: 24:20 - loss: 0.0039 - acc: 0.99 - ETA: 24:11 - loss: 0.0039 - acc: 0.99 - ETA: 24:02 - loss: 0.0039 - acc: 0.99 - ETA: 23:53 - loss: 0.0039 - acc: 0.99 - ETA: 23:44 - loss: 0.0038 - acc: 0.99 - ETA: 23:36 - loss: 0.0038 - acc: 0.99 - ETA: 23:27 - loss: 0.0038 - acc: 0.99 - ETA: 23:18 - loss: 0.0038 - acc: 0.99 - ETA: 23:10 - loss: 0.0038 - acc: 0.99 - ETA: 23:01 - loss: 0.0038 - acc: 0.99 - ETA: 22:53 - loss: 0.0038 - acc: 0.99 - ETA: 22:44 - loss: 0.0047 - acc: 0.99 - ETA: 22:36 - loss: 0.0047 - acc: 0.99 - ETA: 22:28 - loss: 0.0047 - acc: 0.99 - ETA: 22:19 - loss: 0.0046 - acc: 0.99 - ETA: 22:11 - loss: 0.0046 - acc: 0.99 - ETA: 22:03 - loss: 0.0046 - acc: 0.99 - ETA: 21:55 - loss: 0.0046 - acc: 0.99 - ETA: 21:47 - loss: 0.0046 - acc: 0.99 - ETA: 21:39 - loss: 0.0046 - acc: 0.99 - ETA: 21:31 - loss: 0.0046 - acc: 0.99 - ETA: 21:23 - loss: 0.0045 - acc: 0.99 - ETA: 21:15 - loss: 0.0045 - acc: 0.99 - ETA: 21:07 - loss: 0.0045 - acc: 0.99 - ETA: 20:59 - loss: 0.0045 - acc: 0.99 - ETA: 20:51 - loss: 0.0045 - acc: 0.99 - ETA: 20:44 - loss: 0.0045 - acc: 0.99 - ETA: 20:36 - loss: 0.0045 - acc: 0.99 - ETA: 20:28 - loss: 0.0044 - acc: 0.99 - ETA: 20:21 - loss: 0.0044 - acc: 0.99 - ETA: 20:13 - loss: 0.0044 - acc: 0.99 - ETA: 20:06 - loss: 0.0044 - acc: 0.99 - ETA: 19:58 - loss: 0.0044 - acc: 0.99 - ETA: 19:51 - loss: 0.0044 - acc: 0.99 - ETA: 19:44 - loss: 0.0044 - acc: 0.99 - ETA: 19:36 - loss: 0.0043 - acc: 0.99 - ETA: 19:29 - loss: 0.0043 - acc: 0.99 - ETA: 19:22 - loss: 0.0043 - acc: 0.99 - ETA: 19:15 - loss: 0.0043 - acc: 0.99 - ETA: 19:07 - loss: 0.0043 - acc: 0.99 - ETA: 19:00 - loss: 0.0043 - acc: 0.99 - ETA: 18:53 - loss: 0.0043 - acc: 0.99 - ETA: 18:46 - loss: 0.0043 - acc: 0.99 - ETA: 18:39 - loss: 0.0043 - acc: 0.99 - ETA: 18:32 - loss: 0.0042 - acc: 0.99 - ETA: 18:25 - loss: 0.0042 - acc: 0.99 - ETA: 18:18 - loss: 0.0042 - acc: 0.99 - ETA: 18:12 - loss: 0.0042 - acc: 0.99 - ETA: 18:05 - loss: 0.0042 - acc: 0.99 - ETA: 17:58 - loss: 0.0042 - acc: 0.99 - ETA: 17:51 - loss: 0.0042 - acc: 0.99 - ETA: 17:45 - loss: 0.0042 - acc: 0.99 - ETA: 17:38 - loss: 0.0041 - acc: 0.99 - ETA: 17:31 - loss: 0.0041 - acc: 0.99 - ETA: 17:25 - loss: 0.0041 - acc: 0.99 - ETA: 17:18 - loss: 0.0041 - acc: 0.99 - ETA: 17:12 - loss: 0.0044 - acc: 0.99 - ETA: 17:05 - loss: 0.0044 - acc: 0.99 - ETA: 16:59 - loss: 0.0044 - acc: 0.99 - ETA: 16:52 - loss: 0.0044 - acc: 0.99 - ETA: 16:46 - loss: 0.0043 - acc: 0.99 - ETA: 16:40 - loss: 0.0043 - acc: 0.99 - ETA: 16:33 - loss: 0.0043 - acc: 0.99 - ETA: 16:27 - loss: 0.0043 - acc: 0.99 - ETA: 16:21 - loss: 0.0043 - acc: 0.99 - ETA: 16:15 - loss: 0.0043 - acc: 0.99 - ETA: 16:09 - loss: 0.0043 - acc: 0.99 - ETA: 16:02 - loss: 0.0043 - acc: 0.99 - ETA: 15:56 - loss: 0.0043 - acc: 0.99 - ETA: 15:50 - loss: 0.0042 - acc: 0.99 - ETA: 15:44 - loss: 0.0042 - acc: 0.99 - ETA: 15:38 - loss: 0.0042 - acc: 0.99 - ETA: 15:32 - loss: 0.0042 - acc: 0.99 - ETA: 15:26 - loss: 0.0042 - acc: 0.99 - ETA: 15:20 - loss: 0.0042 - acc: 0.99 - ETA: 15:14 - loss: 0.0042 - acc: 0.99 - ETA: 15:08 - loss: 0.0042 - acc: 0.99 - ETA: 15:03 - loss: 0.0042 - acc: 0.99 - ETA: 14:57 - loss: 0.0042 - acc: 0.99 - ETA: 14:51 - loss: 0.0041 - acc: 0.99 - ETA: 14:45 - loss: 0.0041 - acc: 0.99 - ETA: 14:40 - loss: 0.0041 - acc: 0.99 - ETA: 14:34 - loss: 0.0041 - acc: 0.99 - ETA: 14:28 - loss: 0.0041 - acc: 0.99 - ETA: 14:23 - loss: 0.0041 - acc: 0.99 - ETA: 14:17 - loss: 0.0041 - acc: 0.99 - ETA: 14:11 - loss: 0.0041 - acc: 0.99 - ETA: 14:06 - loss: 0.0041 - acc: 0.99 - ETA: 14:00 - loss: 0.0040 - acc: 0.99 - ETA: 13:55 - loss: 0.0040 - acc: 0.99 - ETA: 13:49 - loss: 0.0040 - acc: 0.99 - ETA: 13:44 - loss: 0.0040 - acc: 0.99 - ETA: 13:38 - loss: 0.0040 - acc: 0.99 - ETA: 13:33 - loss: 0.0040 - acc: 0.99 - ETA: 13:28 - loss: 0.0040 - acc: 0.99 - ETA: 13:22 - loss: 0.0040 - acc: 0.99 - ETA: 13:17 - loss: 0.0040 - acc: 0.99 - ETA: 13:12 - loss: 0.0040 - acc: 0.99 - ETA: 13:06 - loss: 0.0043 - acc: 0.99 - ETA: 13:01 - loss: 0.0042 - acc: 0.99 - ETA: 12:56 - loss: 0.0042 - acc: 0.99 - ETA: 12:51 - loss: 0.0042 - acc: 0.99 - ETA: 12:45 - loss: 0.0042 - acc: 0.99 - ETA: 12:40 - loss: 0.0042 - acc: 0.99 - ETA: 12:35 - loss: 0.0042 - acc: 0.99 - ETA: 12:30 - loss: 0.0042 - acc: 0.99 - ETA: 12:25 - loss: 0.0042 - acc: 0.99 - ETA: 12:20 - loss: 0.0042 - acc: 0.99 - ETA: 12:15 - loss: 0.0042 - acc: 0.99 - ETA: 12:10 - loss: 0.0042 - acc: 0.99 - ETA: 12:05 - loss: 0.0042 - acc: 0.99 - ETA: 12:00 - loss: 0.0041 - acc: 0.99 - ETA: 11:55 - loss: 0.0041 - acc: 0.99 - ETA: 11:50 - loss: 0.0041 - acc: 0.99 - ETA: 11:45 - loss: 0.0041 - acc: 0.99 - ETA: 11:40 - loss: 0.0041 - acc: 0.99 - ETA: 11:35 - loss: 0.0041 - acc: 0.99 - ETA: 11:30 - loss: 0.0041 - acc: 0.99 - ETA: 11:26 - loss: 0.0041 - acc: 0.99 - ETA: 11:21 - loss: 0.0041 - acc: 0.99 - ETA: 11:16 - loss: 0.0041 - acc: 0.99 - ETA: 11:11 - loss: 0.0041 - acc: 0.99 - ETA: 11:07 - loss: 0.0041 - acc: 0.99 - ETA: 11:02 - loss: 0.0040 - acc: 0.99 - ETA: 10:57 - loss: 0.0040 - acc: 0.99 - ETA: 10:52 - loss: 0.0040 - acc: 0.99 - ETA: 10:48 - loss: 0.0040 - acc: 0.9991"
     ]
    },
    {
     "name": "stdout",
     "output_type": "stream",
     "text": [
      "11260/11998 [===========================>..] - ETA: 10:43 - loss: 0.0040 - acc: 0.99 - ETA: 10:39 - loss: 0.0040 - acc: 0.99 - ETA: 10:34 - loss: 0.0040 - acc: 0.99 - ETA: 10:29 - loss: 0.0040 - acc: 0.99 - ETA: 10:25 - loss: 0.0040 - acc: 0.99 - ETA: 10:20 - loss: 0.0040 - acc: 0.99 - ETA: 10:16 - loss: 0.0040 - acc: 0.99 - ETA: 10:11 - loss: 0.0040 - acc: 0.99 - ETA: 10:07 - loss: 0.0039 - acc: 0.99 - ETA: 10:02 - loss: 0.0039 - acc: 0.99 - ETA: 9:58 - loss: 0.0039 - acc: 0.9992 - ETA: 9:53 - loss: 0.0039 - acc: 0.999 - ETA: 9:49 - loss: 0.0039 - acc: 0.999 - ETA: 9:45 - loss: 0.0039 - acc: 0.999 - ETA: 9:40 - loss: 0.0039 - acc: 0.999 - ETA: 9:36 - loss: 0.0039 - acc: 0.999 - ETA: 9:31 - loss: 0.0039 - acc: 0.999 - ETA: 9:27 - loss: 0.0039 - acc: 0.999 - ETA: 9:23 - loss: 0.0039 - acc: 0.999 - ETA: 9:18 - loss: 0.0039 - acc: 0.999 - ETA: 9:14 - loss: 0.0039 - acc: 0.999 - ETA: 9:10 - loss: 0.0038 - acc: 0.999 - ETA: 9:06 - loss: 0.0038 - acc: 0.999 - ETA: 9:01 - loss: 0.0038 - acc: 0.999 - ETA: 8:57 - loss: 0.0038 - acc: 0.999 - ETA: 8:53 - loss: 0.0038 - acc: 0.999 - ETA: 8:49 - loss: 0.0038 - acc: 0.999 - ETA: 8:45 - loss: 0.0038 - acc: 0.999 - ETA: 8:41 - loss: 0.0038 - acc: 0.999 - ETA: 8:36 - loss: 0.0038 - acc: 0.999 - ETA: 8:32 - loss: 0.0038 - acc: 0.999 - ETA: 8:28 - loss: 0.0038 - acc: 0.999 - ETA: 8:24 - loss: 0.0038 - acc: 0.999 - ETA: 8:20 - loss: 0.0037 - acc: 0.999 - ETA: 8:16 - loss: 0.0037 - acc: 0.999 - ETA: 8:12 - loss: 0.0037 - acc: 0.999 - ETA: 8:08 - loss: 0.0037 - acc: 0.999 - ETA: 8:04 - loss: 0.0037 - acc: 0.999 - ETA: 8:00 - loss: 0.0037 - acc: 0.999 - ETA: 7:56 - loss: 0.0037 - acc: 0.999 - ETA: 7:52 - loss: 0.0037 - acc: 0.999 - ETA: 7:48 - loss: 0.0037 - acc: 0.999 - ETA: 7:44 - loss: 0.0037 - acc: 0.999 - ETA: 7:40 - loss: 0.0037 - acc: 0.999 - ETA: 7:36 - loss: 0.0037 - acc: 0.999 - ETA: 7:33 - loss: 0.0037 - acc: 0.999 - ETA: 7:29 - loss: 0.0036 - acc: 0.999 - ETA: 7:25 - loss: 0.0037 - acc: 0.999 - ETA: 7:21 - loss: 0.0037 - acc: 0.999 - ETA: 7:17 - loss: 0.0037 - acc: 0.999 - ETA: 7:13 - loss: 0.0037 - acc: 0.999 - ETA: 7:10 - loss: 0.0037 - acc: 0.999 - ETA: 7:06 - loss: 0.0037 - acc: 0.999 - ETA: 7:02 - loss: 0.0037 - acc: 0.999 - ETA: 6:58 - loss: 0.0037 - acc: 0.999 - ETA: 6:54 - loss: 0.0037 - acc: 0.999 - ETA: 6:51 - loss: 0.0037 - acc: 0.999 - ETA: 6:47 - loss: 0.0037 - acc: 0.999 - ETA: 6:43 - loss: 0.0040 - acc: 0.999 - ETA: 6:40 - loss: 0.0040 - acc: 0.999 - ETA: 6:36 - loss: 0.0040 - acc: 0.999 - ETA: 6:32 - loss: 0.0040 - acc: 0.999 - ETA: 6:29 - loss: 0.0040 - acc: 0.999 - ETA: 6:25 - loss: 0.0040 - acc: 0.999 - ETA: 6:21 - loss: 0.0040 - acc: 0.999 - ETA: 6:18 - loss: 0.0040 - acc: 0.999 - ETA: 6:14 - loss: 0.0040 - acc: 0.999 - ETA: 6:11 - loss: 0.0042 - acc: 0.998 - ETA: 6:07 - loss: 0.0042 - acc: 0.998 - ETA: 6:03 - loss: 0.0042 - acc: 0.999 - ETA: 6:00 - loss: 0.0042 - acc: 0.999 - ETA: 5:56 - loss: 0.0042 - acc: 0.999 - ETA: 5:53 - loss: 0.0042 - acc: 0.999 - ETA: 5:49 - loss: 0.0046 - acc: 0.998 - ETA: 5:46 - loss: 0.0046 - acc: 0.998 - ETA: 5:42 - loss: 0.0046 - acc: 0.998 - ETA: 5:39 - loss: 0.0046 - acc: 0.998 - ETA: 5:35 - loss: 0.0046 - acc: 0.998 - ETA: 5:32 - loss: 0.0046 - acc: 0.998 - ETA: 5:28 - loss: 0.0046 - acc: 0.998 - ETA: 5:25 - loss: 0.0046 - acc: 0.998 - ETA: 5:22 - loss: 0.0046 - acc: 0.998 - ETA: 5:18 - loss: 0.0046 - acc: 0.998 - ETA: 5:15 - loss: 0.0046 - acc: 0.998 - ETA: 5:11 - loss: 0.0045 - acc: 0.998 - ETA: 5:08 - loss: 0.0045 - acc: 0.998 - ETA: 5:05 - loss: 0.0045 - acc: 0.998 - ETA: 5:01 - loss: 0.0053 - acc: 0.998 - ETA: 4:58 - loss: 0.0052 - acc: 0.998 - ETA: 4:55 - loss: 0.0053 - acc: 0.998 - ETA: 4:51 - loss: 0.0053 - acc: 0.998 - ETA: 4:48 - loss: 0.0053 - acc: 0.998 - ETA: 4:45 - loss: 0.0053 - acc: 0.998 - ETA: 4:41 - loss: 0.0054 - acc: 0.998 - ETA: 4:38 - loss: 0.0054 - acc: 0.998 - ETA: 4:35 - loss: 0.0054 - acc: 0.998 - ETA: 4:31 - loss: 0.0054 - acc: 0.998 - ETA: 4:28 - loss: 0.0053 - acc: 0.998 - ETA: 4:25 - loss: 0.0054 - acc: 0.998 - ETA: 4:22 - loss: 0.0054 - acc: 0.998 - ETA: 4:19 - loss: 0.0054 - acc: 0.998 - ETA: 4:15 - loss: 0.0054 - acc: 0.998 - ETA: 4:12 - loss: 0.0054 - acc: 0.998 - ETA: 4:09 - loss: 0.0054 - acc: 0.998 - ETA: 4:06 - loss: 0.0055 - acc: 0.998 - ETA: 4:03 - loss: 0.0055 - acc: 0.998 - ETA: 3:59 - loss: 0.0055 - acc: 0.998 - ETA: 3:56 - loss: 0.0055 - acc: 0.998 - ETA: 3:53 - loss: 0.0055 - acc: 0.998 - ETA: 3:50 - loss: 0.0055 - acc: 0.998 - ETA: 3:47 - loss: 0.0055 - acc: 0.998 - ETA: 3:44 - loss: 0.0055 - acc: 0.998 - ETA: 3:41 - loss: 0.0055 - acc: 0.998 - ETA: 3:38 - loss: 0.0055 - acc: 0.998 - ETA: 3:35 - loss: 0.0055 - acc: 0.998 - ETA: 3:31 - loss: 0.0055 - acc: 0.998 - ETA: 3:28 - loss: 0.0055 - acc: 0.998 - ETA: 3:25 - loss: 0.0055 - acc: 0.998 - ETA: 3:22 - loss: 0.0055 - acc: 0.998 - ETA: 3:19 - loss: 0.0055 - acc: 0.998 - ETA: 3:16 - loss: 0.0055 - acc: 0.998 - ETA: 3:13 - loss: 0.0055 - acc: 0.998 - ETA: 3:10 - loss: 0.0055 - acc: 0.998 - ETA: 3:07 - loss: 0.0055 - acc: 0.998 - ETA: 3:04 - loss: 0.0055 - acc: 0.998 - ETA: 3:01 - loss: 0.0055 - acc: 0.998 - ETA: 2:58 - loss: 0.0055 - acc: 0.998 - ETA: 2:55 - loss: 0.0055 - acc: 0.998 - ETA: 2:52 - loss: 0.0055 - acc: 0.998 - ETA: 2:49 - loss: 0.0055 - acc: 0.998 - ETA: 2:46 - loss: 0.0055 - acc: 0.998 - ETA: 2:43 - loss: 0.0055 - acc: 0.998 - ETA: 2:41 - loss: 0.0055 - acc: 0.998 - ETA: 2:38 - loss: 0.0055 - acc: 0.998 - ETA: 2:35 - loss: 0.0054 - acc: 0.998 - ETA: 2:32 - loss: 0.0055 - acc: 0.998 - ETA: 2:29 - loss: 0.0054 - acc: 0.998 - ETA: 2:26 - loss: 0.0054 - acc: 0.998 - ETA: 2:23 - loss: 0.0054 - acc: 0.998 - ETA: 2:20 - loss: 0.0054 - acc: 0.998 - ETA: 2:18 - loss: 0.0054 - acc: 0.998 - ETA: 2:15 - loss: 0.0054 - acc: 0.998 - ETA: 2:12 - loss: 0.0054 - acc: 0.998 - ETA: 2:09 - loss: 0.0054 - acc: 0.998 - ETA: 2:06 - loss: 0.0054 - acc: 0.998 - ETA: 2:03 - loss: 0.0054 - acc: 0.998 - ETA: 2:01 - loss: 0.0054 - acc: 0.998 - ETA: 1:58 - loss: 0.0054 - acc: 0.998 - ETA: 1:55 - loss: 0.0054 - acc: 0.998 - ETA: 1:52 - loss: 0.0053 - acc: 0.998 - ETA: 1:49 - loss: 0.0053 - acc: 0.998 - ETA: 1:47 - loss: 0.0053 - acc: 0.998 - ETA: 1:44 - loss: 0.0053 - acc: 0.998 - ETA: 1:41 - loss: 0.0053 - acc: 0.998 - ETA: 1:38 - loss: 0.0053 - acc: 0.998 - ETA: 1:36 - loss: 0.0053 - acc: 0.9987"
     ]
    }
   ],
   "source": [
    "model.fit(X_train, [y_train], epochs = 3, batch_size = 20,verbose=1, validation_split=0.0, validation_data=None, shuffle=True)"
   ]
  },
  {
   "cell_type": "code",
   "execution_count": null,
   "metadata": {
    "scrolled": true
   },
   "outputs": [],
   "source": [
    "# model.evaluate(X, [y], batch_size=2)"
   ]
  },
  {
   "cell_type": "code",
   "execution_count": null,
   "metadata": {},
   "outputs": [],
   "source": [
    "# with open('TrainedModel.pkl','wb') as file:\n",
    "#     pickle.dump(model,file)"
   ]
  },
  {
   "cell_type": "code",
   "execution_count": null,
   "metadata": {},
   "outputs": [],
   "source": [
    "# tf.keras.backend.clear_session()"
   ]
  },
  {
   "cell_type": "code",
   "execution_count": null,
   "metadata": {},
   "outputs": [],
   "source": [
    "import time\n",
    "modelFileName = \"TrainedModel{}.csv\".format(int(time.time()))"
   ]
  },
  {
   "cell_type": "code",
   "execution_count": null,
   "metadata": {},
   "outputs": [],
   "source": [
    "model.save(modelFileName)"
   ]
  },
  {
   "cell_type": "code",
   "execution_count": null,
   "metadata": {},
   "outputs": [],
   "source": [
    "TEST_DATA_DIR = \"DataSet/TestImages\""
   ]
  },
  {
   "cell_type": "code",
   "execution_count": null,
   "metadata": {},
   "outputs": [],
   "source": [
    "TestDataPath = os.path.join(TEST_DATA_DIR)"
   ]
  },
  {
   "cell_type": "code",
   "execution_count": null,
   "metadata": {},
   "outputs": [],
   "source": [
    "Testing_data = []\n",
    "def create_Testing_data():\n",
    "    for image in tqdm(os.listdir(TestDataPath)):\n",
    "        img_array = cv2.resize(cv2.imread(os.path.join(TestDataPath,image),cv2.IMREAD_GRAYSCALE) ,(IMG_SIZE,IMG_SIZE))\n",
    "        Testing_data.append([img_array,image])\n",
    "create_Testing_data()"
   ]
  },
  {
   "cell_type": "code",
   "execution_count": null,
   "metadata": {},
   "outputs": [],
   "source": [
    "imageFileNames = []\n",
    "testImageData = []\n",
    "for item in Testing_data:\n",
    "    testImageData.append(item[0])\n",
    "    imageFileNames.append(item[1])"
   ]
  },
  {
   "cell_type": "code",
   "execution_count": null,
   "metadata": {
    "scrolled": true
   },
   "outputs": [],
   "source": [
    "testImageData = np.array(testImageData).reshape(-1,IMG_SIZE,IMG_SIZE,1)"
   ]
  },
  {
   "cell_type": "code",
   "execution_count": null,
   "metadata": {},
   "outputs": [],
   "source": [
    "outPredictions = model.predict(testImageData)"
   ]
  },
  {
   "cell_type": "code",
   "execution_count": null,
   "metadata": {},
   "outputs": [],
   "source": [
    "class_Output = [1 if item[0]>0.5 else 0 for item in outPredictions]"
   ]
  },
  {
   "cell_type": "code",
   "execution_count": null,
   "metadata": {},
   "outputs": [],
   "source": [
    "import time\n",
    "data = {'Image_File': imageFileNames,'Class':LabelEncoderInstance.inverse_transform(class_Output).tolist()}\n",
    "predictionDataFrame = pd.DataFrame(data)\n",
    "outfilename = \"Prediction{}.csv\".format(int(time.time()))\n",
    "predictionDataFrame.to_csv(outfilename, index=False)"
   ]
  },
  {
   "cell_type": "code",
   "execution_count": null,
   "metadata": {},
   "outputs": [],
   "source": []
  }
 ],
 "metadata": {
  "kernelspec": {
   "display_name": "Python 3",
   "language": "python",
   "name": "python3"
  },
  "language_info": {
   "codemirror_mode": {
    "name": "ipython",
    "version": 3
   },
   "file_extension": ".py",
   "mimetype": "text/x-python",
   "name": "python",
   "nbconvert_exporter": "python",
   "pygments_lexer": "ipython3",
   "version": "3.7.0"
  }
 },
 "nbformat": 4,
 "nbformat_minor": 2
}
